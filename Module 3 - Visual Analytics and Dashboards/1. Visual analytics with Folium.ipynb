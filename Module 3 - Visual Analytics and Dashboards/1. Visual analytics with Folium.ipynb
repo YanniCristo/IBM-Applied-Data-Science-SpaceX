{
  "metadata": {
    "kernelspec": {
      "name": "python",
      "display_name": "Python (Pyodide)",
      "language": "python"
    },
    "language_info": {
      "codemirror_mode": {
        "name": "python",
        "version": 3
      },
      "file_extension": ".py",
      "mimetype": "text/x-python",
      "name": "python",
      "nbconvert_exporter": "python",
      "pygments_lexer": "ipython3",
      "version": "3.8"
    },
    "prev_pub_hash": "a1e07037ecf90574d84d006d73125e5bbccf63ea401896587709482e7760fcbf"
  },
  "nbformat_minor": 4,
  "nbformat": 4,
  "cells": [
    {
      "cell_type": "markdown",
      "source": "<p style=\"text-align:center\">\n    <a href=\"https://skills.network/?utm_medium=Exinfluencer&utm_source=Exinfluencer&utm_content=000026UJ&utm_term=10006555&utm_id=NA-SkillsNetwork-Channel-SkillsNetworkCoursesIBMDS0321ENSkillsNetwork26802033-2022-01-01\" target=\"_blank\">\n    <img src=\"https://cf-courses-data.s3.us.cloud-object-storage.appdomain.cloud/assets/logos/SN_web_lightmode.png\" width=\"200\" alt=\"Skills Network Logo\">\n    </a>\n</p>\n",
      "metadata": {}
    },
    {
      "cell_type": "markdown",
      "source": "# **Launch Sites Locations Analysis with Folium**\n",
      "metadata": {}
    },
    {
      "cell_type": "markdown",
      "source": "Estimated time needed: **40** minutes\n",
      "metadata": {}
    },
    {
      "cell_type": "markdown",
      "source": "The launch success rate may depend on many factors such as payload mass, orbit type, and so on. It may also depend on the location and proximities of a launch site, i.e., the initial position of rocket trajectories. Finding an optimal location for building a launch site certainly involves many factors and hopefully we could discover some of the factors by analyzing the existing launch site locations.\n",
      "metadata": {}
    },
    {
      "cell_type": "markdown",
      "source": "In the previous exploratory data analysis labs, you have visualized the SpaceX launch dataset using `matplotlib` and `seaborn` and discovered some preliminary correlations between the launch site and success rates. In this lab, you will be performing more interactive visual analytics using `Folium`.\n",
      "metadata": {}
    },
    {
      "cell_type": "markdown",
      "source": "## Objectives\n",
      "metadata": {}
    },
    {
      "cell_type": "markdown",
      "source": "This lab contains the following tasks:\n\n*   **TASK 1:** Mark all launch sites on a map\n*   **TASK 2:** Mark the success/failed launches for each site on the map\n*   **TASK 3:** Calculate the distances between a launch site to its proximities\n\nAfter completed the above tasks, you should be able to find some geographical patterns about launch sites.\n",
      "metadata": {}
    },
    {
      "cell_type": "markdown",
      "source": "Let's first import required Python packages for this lab:\n",
      "metadata": {}
    },
    {
      "cell_type": "code",
      "source": "import piplite\nawait piplite.install(['folium'])\nawait piplite.install(['pandas'])",
      "metadata": {
        "trusted": true
      },
      "outputs": [],
      "execution_count": 22
    },
    {
      "cell_type": "code",
      "source": "import folium\nimport pandas as pd",
      "metadata": {
        "trusted": true
      },
      "outputs": [],
      "execution_count": 23
    },
    {
      "cell_type": "code",
      "source": "# Import folium MarkerCluster plugin\nfrom folium.plugins import MarkerCluster\n# Import folium MousePosition plugin\nfrom folium.plugins import MousePosition\n# Import folium DivIcon plugin\nfrom folium.features import DivIcon",
      "metadata": {
        "trusted": true
      },
      "outputs": [],
      "execution_count": 24
    },
    {
      "cell_type": "markdown",
      "source": "If you need to refresh your memory about folium, you may download and refer to this previous folium lab:\n",
      "metadata": {}
    },
    {
      "cell_type": "markdown",
      "source": "[Generating Maps with Python](https://cf-courses-data.s3.us.cloud-object-storage.appdomain.cloud/IBM-DS0321EN-SkillsNetwork/labs/module\\_3/DV0101EN-3-5-1-Generating-Maps-in-Python-py-v2.0.ipynb)\n",
      "metadata": {}
    },
    {
      "cell_type": "markdown",
      "source": "## Task 1: Mark all launch sites on a map\n",
      "metadata": {}
    },
    {
      "cell_type": "markdown",
      "source": "First, let's try to add each site's location on a map using site's latitude and longitude coordinates\n",
      "metadata": {}
    },
    {
      "cell_type": "markdown",
      "source": "The following dataset with the name `spacex_launch_geo.csv` is an augmented dataset with latitude and longitude added for each site.\n",
      "metadata": {}
    },
    {
      "cell_type": "code",
      "source": "# Download and read the `spacex_launch_geo.csv`\nfrom js import fetch\nimport io\n\nURL = 'https://cf-courses-data.s3.us.cloud-object-storage.appdomain.cloud/IBM-DS0321EN-SkillsNetwork/datasets/spacex_launch_geo.csv'\nresp = await fetch(URL)\nspacex_csv_file = io.BytesIO((await resp.arrayBuffer()).to_py())\nspacex_df=pd.read_csv(spacex_csv_file)",
      "metadata": {
        "trusted": true
      },
      "outputs": [],
      "execution_count": 25
    },
    {
      "cell_type": "markdown",
      "source": "Now, you can take a look at what are the coordinates for each site.\n",
      "metadata": {}
    },
    {
      "cell_type": "code",
      "source": "# Select relevant sub-columns: `Launch Site`, `Lat(Latitude)`, `Long(Longitude)`, `class`\nspacex_df = spacex_df[['Launch Site', 'Lat', 'Long', 'class']]\nlaunch_sites_df = spacex_df.groupby(['Launch Site'], as_index=False).first()\nlaunch_sites_df = launch_sites_df[['Launch Site', 'Lat', 'Long']]\nlaunch_sites_df",
      "metadata": {
        "trusted": true
      },
      "outputs": [
        {
          "execution_count": 26,
          "output_type": "execute_result",
          "data": {
            "text/plain": "    Launch Site        Lat        Long\n0   CCAFS LC-40  28.562302  -80.577356\n1  CCAFS SLC-40  28.563197  -80.576820\n2    KSC LC-39A  28.573255  -80.646895\n3   VAFB SLC-4E  34.632834 -120.610745",
            "text/html": "<div>\n<style scoped>\n    .dataframe tbody tr th:only-of-type {\n        vertical-align: middle;\n    }\n\n    .dataframe tbody tr th {\n        vertical-align: top;\n    }\n\n    .dataframe thead th {\n        text-align: right;\n    }\n</style>\n<table border=\"1\" class=\"dataframe\">\n  <thead>\n    <tr style=\"text-align: right;\">\n      <th></th>\n      <th>Launch Site</th>\n      <th>Lat</th>\n      <th>Long</th>\n    </tr>\n  </thead>\n  <tbody>\n    <tr>\n      <th>0</th>\n      <td>CCAFS LC-40</td>\n      <td>28.562302</td>\n      <td>-80.577356</td>\n    </tr>\n    <tr>\n      <th>1</th>\n      <td>CCAFS SLC-40</td>\n      <td>28.563197</td>\n      <td>-80.576820</td>\n    </tr>\n    <tr>\n      <th>2</th>\n      <td>KSC LC-39A</td>\n      <td>28.573255</td>\n      <td>-80.646895</td>\n    </tr>\n    <tr>\n      <th>3</th>\n      <td>VAFB SLC-4E</td>\n      <td>34.632834</td>\n      <td>-120.610745</td>\n    </tr>\n  </tbody>\n</table>\n</div>"
          },
          "metadata": {}
        }
      ],
      "execution_count": 26
    },
    {
      "cell_type": "markdown",
      "source": "Above coordinates are just plain numbers that can not give you any intuitive insights about where are those launch sites. If you are very good at geography, you can interpret those numbers directly in your mind. If not, that's fine too. Let's visualize those locations by pinning them on a map.\n",
      "metadata": {}
    },
    {
      "cell_type": "markdown",
      "source": "We first need to create a folium `Map` object, with an initial center location to be NASA Johnson Space Center at Houston, Texas.\n",
      "metadata": {}
    },
    {
      "cell_type": "code",
      "source": "# Start location is NASA Johnson Space Center\nnasa_coordinate = [29.559684888503615, -95.0830971930759]\nsite_map = folium.Map(location=nasa_coordinate, zoom_start=10)",
      "metadata": {
        "trusted": true
      },
      "outputs": [],
      "execution_count": 27
    },
    {
      "cell_type": "markdown",
      "source": "We could use `folium.Circle` to add a highlighted circle area with a text label on a specific coordinate. For example,\n",
      "metadata": {}
    },
    {
      "cell_type": "code",
      "source": "# Create a blue circle at NASA Johnson Space Center's coordinate with a popup label showing its name\ncircle = folium.Circle(nasa_coordinate, radius=1000, color='#d35400', fill=True).add_child(folium.Popup('NASA Johnson Space Center'))\n# Create a blue circle at NASA Johnson Space Center's coordinate with a icon showing its name\nmarker = folium.map.Marker(\n    nasa_coordinate,\n    # Create an icon as a text label\n    icon=DivIcon(\n        icon_size=(20,20),\n        icon_anchor=(0,0),\n        html='<div style=\"font-size: 12; color:#d35400;\"><b>%s</b></div>' % 'NASA JSC',\n        )\n    )\nsite_map.add_child(circle)\nsite_map.add_child(marker)",
      "metadata": {
        "trusted": true
      },
      "outputs": [
        {
          "execution_count": 28,
          "output_type": "execute_result",
          "data": {
            "text/plain": "<folium.folium.Map at 0x5fdde78>",
            "text/html": "<div style=\"width:100%;\"><div style=\"position:relative;width:100%;height:0;padding-bottom:60%;\"><span style=\"color:#565656\">Make this Notebook Trusted to load map: File -> Trust Notebook</span><iframe srcdoc=\"&lt;!DOCTYPE html&gt;\n&lt;html&gt;\n&lt;head&gt;\n    \n    &lt;meta http-equiv=&quot;content-type&quot; content=&quot;text/html; charset=UTF-8&quot; /&gt;\n    \n        &lt;script&gt;\n            L_NO_TOUCH = false;\n            L_DISABLE_3D = false;\n        &lt;/script&gt;\n    \n    &lt;style&gt;html, body {width: 100%;height: 100%;margin: 0;padding: 0;}&lt;/style&gt;\n    &lt;style&gt;#map {position:absolute;top:0;bottom:0;right:0;left:0;}&lt;/style&gt;\n    &lt;script src=&quot;https://cdn.jsdelivr.net/npm/leaflet@1.9.3/dist/leaflet.js&quot;&gt;&lt;/script&gt;\n    &lt;script src=&quot;https://code.jquery.com/jquery-3.7.1.min.js&quot;&gt;&lt;/script&gt;\n    &lt;script src=&quot;https://cdn.jsdelivr.net/npm/bootstrap@5.2.2/dist/js/bootstrap.bundle.min.js&quot;&gt;&lt;/script&gt;\n    &lt;script src=&quot;https://cdnjs.cloudflare.com/ajax/libs/Leaflet.awesome-markers/2.0.2/leaflet.awesome-markers.js&quot;&gt;&lt;/script&gt;\n    &lt;link rel=&quot;stylesheet&quot; href=&quot;https://cdn.jsdelivr.net/npm/leaflet@1.9.3/dist/leaflet.css&quot;/&gt;\n    &lt;link rel=&quot;stylesheet&quot; href=&quot;https://cdn.jsdelivr.net/npm/bootstrap@5.2.2/dist/css/bootstrap.min.css&quot;/&gt;\n    &lt;link rel=&quot;stylesheet&quot; href=&quot;https://netdna.bootstrapcdn.com/bootstrap/3.0.0/css/bootstrap-glyphicons.css&quot;/&gt;\n    &lt;link rel=&quot;stylesheet&quot; href=&quot;https://cdn.jsdelivr.net/npm/@fortawesome/fontawesome-free@6.2.0/css/all.min.css&quot;/&gt;\n    &lt;link rel=&quot;stylesheet&quot; href=&quot;https://cdnjs.cloudflare.com/ajax/libs/Leaflet.awesome-markers/2.0.2/leaflet.awesome-markers.css&quot;/&gt;\n    &lt;link rel=&quot;stylesheet&quot; href=&quot;https://cdn.jsdelivr.net/gh/python-visualization/folium/folium/templates/leaflet.awesome.rotate.min.css&quot;/&gt;\n    \n            &lt;meta name=&quot;viewport&quot; content=&quot;width=device-width,\n                initial-scale=1.0, maximum-scale=1.0, user-scalable=no&quot; /&gt;\n            &lt;style&gt;\n                #map_a3ffa87bc13254961e62835fb1e78392 {\n                    position: relative;\n                    width: 100.0%;\n                    height: 100.0%;\n                    left: 0.0%;\n                    top: 0.0%;\n                }\n                .leaflet-container { font-size: 1rem; }\n            &lt;/style&gt;\n        \n&lt;/head&gt;\n&lt;body&gt;\n    \n    \n            &lt;div class=&quot;folium-map&quot; id=&quot;map_a3ffa87bc13254961e62835fb1e78392&quot; &gt;&lt;/div&gt;\n        \n&lt;/body&gt;\n&lt;script&gt;\n    \n    \n            var map_a3ffa87bc13254961e62835fb1e78392 = L.map(\n                &quot;map_a3ffa87bc13254961e62835fb1e78392&quot;,\n                {\n                    center: [29.559684888503615, -95.0830971930759],\n                    crs: L.CRS.EPSG3857,\n                    zoom: 10,\n                    zoomControl: true,\n                    preferCanvas: false,\n                }\n            );\n\n            \n\n        \n    \n            var tile_layer_7d838fbffc3bd602c2699b68eb514a88 = L.tileLayer(\n                &quot;https://tile.openstreetmap.org/{z}/{x}/{y}.png&quot;,\n                {&quot;attribution&quot;: &quot;\\u0026copy; \\u003ca href=\\&quot;https://www.openstreetmap.org/copyright\\&quot;\\u003eOpenStreetMap\\u003c/a\\u003e contributors&quot;, &quot;detectRetina&quot;: false, &quot;maxNativeZoom&quot;: 19, &quot;maxZoom&quot;: 19, &quot;minZoom&quot;: 0, &quot;noWrap&quot;: false, &quot;opacity&quot;: 1, &quot;subdomains&quot;: &quot;abc&quot;, &quot;tms&quot;: false}\n            );\n        \n    \n            tile_layer_7d838fbffc3bd602c2699b68eb514a88.addTo(map_a3ffa87bc13254961e62835fb1e78392);\n        \n    \n            var circle_4e3792a05bc29c0e47f6c188480cf1c5 = L.circle(\n                [29.559684888503615, -95.0830971930759],\n                {&quot;bubblingMouseEvents&quot;: true, &quot;color&quot;: &quot;#d35400&quot;, &quot;dashArray&quot;: null, &quot;dashOffset&quot;: null, &quot;fill&quot;: true, &quot;fillColor&quot;: &quot;#d35400&quot;, &quot;fillOpacity&quot;: 0.2, &quot;fillRule&quot;: &quot;evenodd&quot;, &quot;lineCap&quot;: &quot;round&quot;, &quot;lineJoin&quot;: &quot;round&quot;, &quot;opacity&quot;: 1.0, &quot;radius&quot;: 1000, &quot;stroke&quot;: true, &quot;weight&quot;: 3}\n            ).addTo(map_a3ffa87bc13254961e62835fb1e78392);\n        \n    \n        var popup_1250a82542b6d5ced6ce9a9392a99cec = L.popup({&quot;maxWidth&quot;: &quot;100%&quot;});\n\n        \n            \n                var html_c89853b04ffafd82ab6ea0748e852eb1 = $(`&lt;div id=&quot;html_c89853b04ffafd82ab6ea0748e852eb1&quot; style=&quot;width: 100.0%; height: 100.0%;&quot;&gt;NASA Johnson Space Center&lt;/div&gt;`)[0];\n                popup_1250a82542b6d5ced6ce9a9392a99cec.setContent(html_c89853b04ffafd82ab6ea0748e852eb1);\n            \n        \n\n        circle_4e3792a05bc29c0e47f6c188480cf1c5.bindPopup(popup_1250a82542b6d5ced6ce9a9392a99cec)\n        ;\n\n        \n    \n    \n            var marker_fc105587fec8e267be907b16b192e89e = L.marker(\n                [29.559684888503615, -95.0830971930759],\n                {}\n            ).addTo(map_a3ffa87bc13254961e62835fb1e78392);\n        \n    \n            var div_icon_bbe031adcd4872e0ff164459907314a5 = L.divIcon({&quot;className&quot;: &quot;empty&quot;, &quot;html&quot;: &quot;\\u003cdiv style=\\&quot;font-size: 12; color:#d35400;\\&quot;\\u003e\\u003cb\\u003eNASA JSC\\u003c/b\\u003e\\u003c/div\\u003e&quot;, &quot;iconAnchor&quot;: [0, 0], &quot;iconSize&quot;: [20, 20]});\n            marker_fc105587fec8e267be907b16b192e89e.setIcon(div_icon_bbe031adcd4872e0ff164459907314a5);\n        \n&lt;/script&gt;\n&lt;/html&gt;\" style=\"position:absolute;width:100%;height:100%;left:0;top:0;border:none !important;\" allowfullscreen webkitallowfullscreen mozallowfullscreen></iframe></div></div>"
          },
          "metadata": {}
        }
      ],
      "execution_count": 28
    },
    {
      "cell_type": "markdown",
      "source": "and you should find a small yellow circle near the city of Houston and you can zoom-in to see a larger circle.\n",
      "metadata": {}
    },
    {
      "cell_type": "markdown",
      "source": "Now, let's add a circle for each launch site in data frame `launch_sites`\n",
      "metadata": {}
    },
    {
      "cell_type": "markdown",
      "source": "*TODO:*  Create and add `folium.Circle` and `folium.Marker` for each launch site on the site map\n",
      "metadata": {}
    },
    {
      "cell_type": "markdown",
      "source": "An example of folium.Circle:\n",
      "metadata": {}
    },
    {
      "cell_type": "markdown",
      "source": "`folium.Circle(coordinate, radius=1000, color='#000000', fill=True).add_child(folium.Popup(...))`\n",
      "metadata": {}
    },
    {
      "cell_type": "markdown",
      "source": "An example of folium.Marker:\n",
      "metadata": {}
    },
    {
      "cell_type": "markdown",
      "source": "`folium.map.Marker(coordinate, icon=DivIcon(icon_size=(20,20),icon_anchor=(0,0), html='<div style=\"font-size: 12; color:#d35400;\"><b>%s</b></div>' % 'label', ))`\n",
      "metadata": {}
    },
    {
      "cell_type": "code",
      "source": "# Initial the map\nsite_map = None\nsite_map = folium.Map(location=nasa_coordinate, zoom_start=5)\n# For each launch site, add a Circle object based on its coordinate (Lat, Long) values. In addition, add Launch site name as a popup label\nfor i, row in launch_sites_df.iterrows():\n    coor = [row['Lat'],row['Long']]\n    circle = folium.Circle(coor, radius=1000, color='#000000', fill=True).add_child(folium.Popup(row['Launch Site']))\n    \n    mkr = folium.map.Marker(coor, \n                            icon=DivIcon(icon_size=(20,20),icon_anchor=(0,0), \n                                               html='<div style=\"font-size: 12; color:#d35400;\"><b>%s</b></div>' % row['Launch Site']))\n    \n    site_map.add_child(circle)\n    site_map.add_child(mkr)\n\nsite_map",
      "metadata": {
        "trusted": true
      },
      "outputs": [
        {
          "execution_count": 29,
          "output_type": "execute_result",
          "data": {
            "text/plain": "<folium.folium.Map at 0x482b3b0>",
            "text/html": "<div style=\"width:100%;\"><div style=\"position:relative;width:100%;height:0;padding-bottom:60%;\"><span style=\"color:#565656\">Make this Notebook Trusted to load map: File -> Trust Notebook</span><iframe srcdoc=\"&lt;!DOCTYPE html&gt;\n&lt;html&gt;\n&lt;head&gt;\n    \n    &lt;meta http-equiv=&quot;content-type&quot; content=&quot;text/html; charset=UTF-8&quot; /&gt;\n    \n        &lt;script&gt;\n            L_NO_TOUCH = false;\n            L_DISABLE_3D = false;\n        &lt;/script&gt;\n    \n    &lt;style&gt;html, body {width: 100%;height: 100%;margin: 0;padding: 0;}&lt;/style&gt;\n    &lt;style&gt;#map {position:absolute;top:0;bottom:0;right:0;left:0;}&lt;/style&gt;\n    &lt;script src=&quot;https://cdn.jsdelivr.net/npm/leaflet@1.9.3/dist/leaflet.js&quot;&gt;&lt;/script&gt;\n    &lt;script src=&quot;https://code.jquery.com/jquery-3.7.1.min.js&quot;&gt;&lt;/script&gt;\n    &lt;script src=&quot;https://cdn.jsdelivr.net/npm/bootstrap@5.2.2/dist/js/bootstrap.bundle.min.js&quot;&gt;&lt;/script&gt;\n    &lt;script src=&quot;https://cdnjs.cloudflare.com/ajax/libs/Leaflet.awesome-markers/2.0.2/leaflet.awesome-markers.js&quot;&gt;&lt;/script&gt;\n    &lt;link rel=&quot;stylesheet&quot; href=&quot;https://cdn.jsdelivr.net/npm/leaflet@1.9.3/dist/leaflet.css&quot;/&gt;\n    &lt;link rel=&quot;stylesheet&quot; href=&quot;https://cdn.jsdelivr.net/npm/bootstrap@5.2.2/dist/css/bootstrap.min.css&quot;/&gt;\n    &lt;link rel=&quot;stylesheet&quot; href=&quot;https://netdna.bootstrapcdn.com/bootstrap/3.0.0/css/bootstrap-glyphicons.css&quot;/&gt;\n    &lt;link rel=&quot;stylesheet&quot; href=&quot;https://cdn.jsdelivr.net/npm/@fortawesome/fontawesome-free@6.2.0/css/all.min.css&quot;/&gt;\n    &lt;link rel=&quot;stylesheet&quot; href=&quot;https://cdnjs.cloudflare.com/ajax/libs/Leaflet.awesome-markers/2.0.2/leaflet.awesome-markers.css&quot;/&gt;\n    &lt;link rel=&quot;stylesheet&quot; href=&quot;https://cdn.jsdelivr.net/gh/python-visualization/folium/folium/templates/leaflet.awesome.rotate.min.css&quot;/&gt;\n    \n            &lt;meta name=&quot;viewport&quot; content=&quot;width=device-width,\n                initial-scale=1.0, maximum-scale=1.0, user-scalable=no&quot; /&gt;\n            &lt;style&gt;\n                #map_9b703708e89f3ad02525ff177296a3fd {\n                    position: relative;\n                    width: 100.0%;\n                    height: 100.0%;\n                    left: 0.0%;\n                    top: 0.0%;\n                }\n                .leaflet-container { font-size: 1rem; }\n            &lt;/style&gt;\n        \n&lt;/head&gt;\n&lt;body&gt;\n    \n    \n            &lt;div class=&quot;folium-map&quot; id=&quot;map_9b703708e89f3ad02525ff177296a3fd&quot; &gt;&lt;/div&gt;\n        \n&lt;/body&gt;\n&lt;script&gt;\n    \n    \n            var map_9b703708e89f3ad02525ff177296a3fd = L.map(\n                &quot;map_9b703708e89f3ad02525ff177296a3fd&quot;,\n                {\n                    center: [29.559684888503615, -95.0830971930759],\n                    crs: L.CRS.EPSG3857,\n                    zoom: 5,\n                    zoomControl: true,\n                    preferCanvas: false,\n                }\n            );\n\n            \n\n        \n    \n            var tile_layer_2375051abc830470c291621ef4573d08 = L.tileLayer(\n                &quot;https://tile.openstreetmap.org/{z}/{x}/{y}.png&quot;,\n                {&quot;attribution&quot;: &quot;\\u0026copy; \\u003ca href=\\&quot;https://www.openstreetmap.org/copyright\\&quot;\\u003eOpenStreetMap\\u003c/a\\u003e contributors&quot;, &quot;detectRetina&quot;: false, &quot;maxNativeZoom&quot;: 19, &quot;maxZoom&quot;: 19, &quot;minZoom&quot;: 0, &quot;noWrap&quot;: false, &quot;opacity&quot;: 1, &quot;subdomains&quot;: &quot;abc&quot;, &quot;tms&quot;: false}\n            );\n        \n    \n            tile_layer_2375051abc830470c291621ef4573d08.addTo(map_9b703708e89f3ad02525ff177296a3fd);\n        \n    \n            var circle_ff1d5d532dea1f7f4e72ec64742cd7d3 = L.circle(\n                [28.56230197, -80.57735648],\n                {&quot;bubblingMouseEvents&quot;: true, &quot;color&quot;: &quot;#000000&quot;, &quot;dashArray&quot;: null, &quot;dashOffset&quot;: null, &quot;fill&quot;: true, &quot;fillColor&quot;: &quot;#000000&quot;, &quot;fillOpacity&quot;: 0.2, &quot;fillRule&quot;: &quot;evenodd&quot;, &quot;lineCap&quot;: &quot;round&quot;, &quot;lineJoin&quot;: &quot;round&quot;, &quot;opacity&quot;: 1.0, &quot;radius&quot;: 1000, &quot;stroke&quot;: true, &quot;weight&quot;: 3}\n            ).addTo(map_9b703708e89f3ad02525ff177296a3fd);\n        \n    \n        var popup_e403d92bb5b139f37719546f0c56382f = L.popup({&quot;maxWidth&quot;: &quot;100%&quot;});\n\n        \n            \n                var html_168ea1d0a23cde7f84dd24b780cdadcf = $(`&lt;div id=&quot;html_168ea1d0a23cde7f84dd24b780cdadcf&quot; style=&quot;width: 100.0%; height: 100.0%;&quot;&gt;CCAFS LC-40&lt;/div&gt;`)[0];\n                popup_e403d92bb5b139f37719546f0c56382f.setContent(html_168ea1d0a23cde7f84dd24b780cdadcf);\n            \n        \n\n        circle_ff1d5d532dea1f7f4e72ec64742cd7d3.bindPopup(popup_e403d92bb5b139f37719546f0c56382f)\n        ;\n\n        \n    \n    \n            var marker_07f7a8c872dee0d5614417b7fe292a18 = L.marker(\n                [28.56230197, -80.57735648],\n                {}\n            ).addTo(map_9b703708e89f3ad02525ff177296a3fd);\n        \n    \n            var div_icon_93fd067670c34b349e109ae0538e9027 = L.divIcon({&quot;className&quot;: &quot;empty&quot;, &quot;html&quot;: &quot;\\u003cdiv style=\\&quot;font-size: 12; color:#d35400;\\&quot;\\u003e\\u003cb\\u003eCCAFS LC-40\\u003c/b\\u003e\\u003c/div\\u003e&quot;, &quot;iconAnchor&quot;: [0, 0], &quot;iconSize&quot;: [20, 20]});\n            marker_07f7a8c872dee0d5614417b7fe292a18.setIcon(div_icon_93fd067670c34b349e109ae0538e9027);\n        \n    \n            var circle_226c32df1901c51da080080f9581b294 = L.circle(\n                [28.56319718, -80.57682003],\n                {&quot;bubblingMouseEvents&quot;: true, &quot;color&quot;: &quot;#000000&quot;, &quot;dashArray&quot;: null, &quot;dashOffset&quot;: null, &quot;fill&quot;: true, &quot;fillColor&quot;: &quot;#000000&quot;, &quot;fillOpacity&quot;: 0.2, &quot;fillRule&quot;: &quot;evenodd&quot;, &quot;lineCap&quot;: &quot;round&quot;, &quot;lineJoin&quot;: &quot;round&quot;, &quot;opacity&quot;: 1.0, &quot;radius&quot;: 1000, &quot;stroke&quot;: true, &quot;weight&quot;: 3}\n            ).addTo(map_9b703708e89f3ad02525ff177296a3fd);\n        \n    \n        var popup_fecb891810d196592118a89d9363cc15 = L.popup({&quot;maxWidth&quot;: &quot;100%&quot;});\n\n        \n            \n                var html_679593c2a7c5e4b1344b2fe72982ff6e = $(`&lt;div id=&quot;html_679593c2a7c5e4b1344b2fe72982ff6e&quot; style=&quot;width: 100.0%; height: 100.0%;&quot;&gt;CCAFS SLC-40&lt;/div&gt;`)[0];\n                popup_fecb891810d196592118a89d9363cc15.setContent(html_679593c2a7c5e4b1344b2fe72982ff6e);\n            \n        \n\n        circle_226c32df1901c51da080080f9581b294.bindPopup(popup_fecb891810d196592118a89d9363cc15)\n        ;\n\n        \n    \n    \n            var marker_94e96ab8a47b857aae29ec170944a7d5 = L.marker(\n                [28.56319718, -80.57682003],\n                {}\n            ).addTo(map_9b703708e89f3ad02525ff177296a3fd);\n        \n    \n            var div_icon_4199b93a55b6d2a2831bc200da65ccaf = L.divIcon({&quot;className&quot;: &quot;empty&quot;, &quot;html&quot;: &quot;\\u003cdiv style=\\&quot;font-size: 12; color:#d35400;\\&quot;\\u003e\\u003cb\\u003eCCAFS SLC-40\\u003c/b\\u003e\\u003c/div\\u003e&quot;, &quot;iconAnchor&quot;: [0, 0], &quot;iconSize&quot;: [20, 20]});\n            marker_94e96ab8a47b857aae29ec170944a7d5.setIcon(div_icon_4199b93a55b6d2a2831bc200da65ccaf);\n        \n    \n            var circle_b3c08fe90484cf243f7c4ef8d160d7f9 = L.circle(\n                [28.57325457, -80.64689529],\n                {&quot;bubblingMouseEvents&quot;: true, &quot;color&quot;: &quot;#000000&quot;, &quot;dashArray&quot;: null, &quot;dashOffset&quot;: null, &quot;fill&quot;: true, &quot;fillColor&quot;: &quot;#000000&quot;, &quot;fillOpacity&quot;: 0.2, &quot;fillRule&quot;: &quot;evenodd&quot;, &quot;lineCap&quot;: &quot;round&quot;, &quot;lineJoin&quot;: &quot;round&quot;, &quot;opacity&quot;: 1.0, &quot;radius&quot;: 1000, &quot;stroke&quot;: true, &quot;weight&quot;: 3}\n            ).addTo(map_9b703708e89f3ad02525ff177296a3fd);\n        \n    \n        var popup_07589ff0be24a648e708ef5312433ece = L.popup({&quot;maxWidth&quot;: &quot;100%&quot;});\n\n        \n            \n                var html_340dbc8aceaa382acab13cdd2c97d5f7 = $(`&lt;div id=&quot;html_340dbc8aceaa382acab13cdd2c97d5f7&quot; style=&quot;width: 100.0%; height: 100.0%;&quot;&gt;KSC LC-39A&lt;/div&gt;`)[0];\n                popup_07589ff0be24a648e708ef5312433ece.setContent(html_340dbc8aceaa382acab13cdd2c97d5f7);\n            \n        \n\n        circle_b3c08fe90484cf243f7c4ef8d160d7f9.bindPopup(popup_07589ff0be24a648e708ef5312433ece)\n        ;\n\n        \n    \n    \n            var marker_d8cb7e4ed249f4eafaedbf759b7b8ee3 = L.marker(\n                [28.57325457, -80.64689529],\n                {}\n            ).addTo(map_9b703708e89f3ad02525ff177296a3fd);\n        \n    \n            var div_icon_f2f99d0fdd21b127f501ccb60b73fcca = L.divIcon({&quot;className&quot;: &quot;empty&quot;, &quot;html&quot;: &quot;\\u003cdiv style=\\&quot;font-size: 12; color:#d35400;\\&quot;\\u003e\\u003cb\\u003eKSC LC-39A\\u003c/b\\u003e\\u003c/div\\u003e&quot;, &quot;iconAnchor&quot;: [0, 0], &quot;iconSize&quot;: [20, 20]});\n            marker_d8cb7e4ed249f4eafaedbf759b7b8ee3.setIcon(div_icon_f2f99d0fdd21b127f501ccb60b73fcca);\n        \n    \n            var circle_7d7628542c126f0d4fb10f06d16d75b9 = L.circle(\n                [34.63283416, -120.6107455],\n                {&quot;bubblingMouseEvents&quot;: true, &quot;color&quot;: &quot;#000000&quot;, &quot;dashArray&quot;: null, &quot;dashOffset&quot;: null, &quot;fill&quot;: true, &quot;fillColor&quot;: &quot;#000000&quot;, &quot;fillOpacity&quot;: 0.2, &quot;fillRule&quot;: &quot;evenodd&quot;, &quot;lineCap&quot;: &quot;round&quot;, &quot;lineJoin&quot;: &quot;round&quot;, &quot;opacity&quot;: 1.0, &quot;radius&quot;: 1000, &quot;stroke&quot;: true, &quot;weight&quot;: 3}\n            ).addTo(map_9b703708e89f3ad02525ff177296a3fd);\n        \n    \n        var popup_0681f2b3fc04018c9512f5992ecc065f = L.popup({&quot;maxWidth&quot;: &quot;100%&quot;});\n\n        \n            \n                var html_dc42de6ad2f31aa673488a2be0885dad = $(`&lt;div id=&quot;html_dc42de6ad2f31aa673488a2be0885dad&quot; style=&quot;width: 100.0%; height: 100.0%;&quot;&gt;VAFB SLC-4E&lt;/div&gt;`)[0];\n                popup_0681f2b3fc04018c9512f5992ecc065f.setContent(html_dc42de6ad2f31aa673488a2be0885dad);\n            \n        \n\n        circle_7d7628542c126f0d4fb10f06d16d75b9.bindPopup(popup_0681f2b3fc04018c9512f5992ecc065f)\n        ;\n\n        \n    \n    \n            var marker_b83bc2b6105c8fb657579b7b15be1343 = L.marker(\n                [34.63283416, -120.6107455],\n                {}\n            ).addTo(map_9b703708e89f3ad02525ff177296a3fd);\n        \n    \n            var div_icon_ae9f3d9f275200dba28aa6e7b2842fe5 = L.divIcon({&quot;className&quot;: &quot;empty&quot;, &quot;html&quot;: &quot;\\u003cdiv style=\\&quot;font-size: 12; color:#d35400;\\&quot;\\u003e\\u003cb\\u003eVAFB SLC-4E\\u003c/b\\u003e\\u003c/div\\u003e&quot;, &quot;iconAnchor&quot;: [0, 0], &quot;iconSize&quot;: [20, 20]});\n            marker_b83bc2b6105c8fb657579b7b15be1343.setIcon(div_icon_ae9f3d9f275200dba28aa6e7b2842fe5);\n        \n&lt;/script&gt;\n&lt;/html&gt;\" style=\"position:absolute;width:100%;height:100%;left:0;top:0;border:none !important;\" allowfullscreen webkitallowfullscreen mozallowfullscreen></iframe></div></div>"
          },
          "metadata": {}
        }
      ],
      "execution_count": 29
    },
    {
      "cell_type": "markdown",
      "source": "The generated map with marked launch sites should look similar to the following:\n",
      "metadata": {}
    },
    {
      "cell_type": "markdown",
      "source": "<center>\n    <img src=\"https://cf-courses-data.s3.us.cloud-object-storage.appdomain.cloud/IBM-DS0321EN-SkillsNetwork/labs/module_3/images/launch_site_markers.png\">\n</center>\n",
      "metadata": {}
    },
    {
      "cell_type": "markdown",
      "source": "Now, you can explore the map by zoom-in/out the marked areas\n, and try to answer the following questions:\n\n*   Are all launch sites in proximity to the Equator line?\n*   Are all launch sites in very close proximity to the coast?\n\nAlso please try to explain your findings.\n",
      "metadata": {}
    },
    {
      "cell_type": "markdown",
      "source": "# Task 2: Mark the success/failed launches for each site on the map\n",
      "metadata": {}
    },
    {
      "cell_type": "markdown",
      "source": "Next, let's try to enhance the map by adding the launch outcomes for each site, and see which sites have high success rates.\nRecall that data frame spacex_df has detailed launch records, and the `class` column indicates if this launch was successful or not\n",
      "metadata": {}
    },
    {
      "cell_type": "code",
      "source": "spacex_df.tail(10)",
      "metadata": {
        "trusted": true
      },
      "outputs": [
        {
          "execution_count": 30,
          "output_type": "execute_result",
          "data": {
            "text/plain": "     Launch Site        Lat       Long  class\n46    KSC LC-39A  28.573255 -80.646895      1\n47    KSC LC-39A  28.573255 -80.646895      1\n48    KSC LC-39A  28.573255 -80.646895      1\n49  CCAFS SLC-40  28.563197 -80.576820      1\n50  CCAFS SLC-40  28.563197 -80.576820      1\n51  CCAFS SLC-40  28.563197 -80.576820      0\n52  CCAFS SLC-40  28.563197 -80.576820      0\n53  CCAFS SLC-40  28.563197 -80.576820      0\n54  CCAFS SLC-40  28.563197 -80.576820      1\n55  CCAFS SLC-40  28.563197 -80.576820      0",
            "text/html": "<div>\n<style scoped>\n    .dataframe tbody tr th:only-of-type {\n        vertical-align: middle;\n    }\n\n    .dataframe tbody tr th {\n        vertical-align: top;\n    }\n\n    .dataframe thead th {\n        text-align: right;\n    }\n</style>\n<table border=\"1\" class=\"dataframe\">\n  <thead>\n    <tr style=\"text-align: right;\">\n      <th></th>\n      <th>Launch Site</th>\n      <th>Lat</th>\n      <th>Long</th>\n      <th>class</th>\n    </tr>\n  </thead>\n  <tbody>\n    <tr>\n      <th>46</th>\n      <td>KSC LC-39A</td>\n      <td>28.573255</td>\n      <td>-80.646895</td>\n      <td>1</td>\n    </tr>\n    <tr>\n      <th>47</th>\n      <td>KSC LC-39A</td>\n      <td>28.573255</td>\n      <td>-80.646895</td>\n      <td>1</td>\n    </tr>\n    <tr>\n      <th>48</th>\n      <td>KSC LC-39A</td>\n      <td>28.573255</td>\n      <td>-80.646895</td>\n      <td>1</td>\n    </tr>\n    <tr>\n      <th>49</th>\n      <td>CCAFS SLC-40</td>\n      <td>28.563197</td>\n      <td>-80.576820</td>\n      <td>1</td>\n    </tr>\n    <tr>\n      <th>50</th>\n      <td>CCAFS SLC-40</td>\n      <td>28.563197</td>\n      <td>-80.576820</td>\n      <td>1</td>\n    </tr>\n    <tr>\n      <th>51</th>\n      <td>CCAFS SLC-40</td>\n      <td>28.563197</td>\n      <td>-80.576820</td>\n      <td>0</td>\n    </tr>\n    <tr>\n      <th>52</th>\n      <td>CCAFS SLC-40</td>\n      <td>28.563197</td>\n      <td>-80.576820</td>\n      <td>0</td>\n    </tr>\n    <tr>\n      <th>53</th>\n      <td>CCAFS SLC-40</td>\n      <td>28.563197</td>\n      <td>-80.576820</td>\n      <td>0</td>\n    </tr>\n    <tr>\n      <th>54</th>\n      <td>CCAFS SLC-40</td>\n      <td>28.563197</td>\n      <td>-80.576820</td>\n      <td>1</td>\n    </tr>\n    <tr>\n      <th>55</th>\n      <td>CCAFS SLC-40</td>\n      <td>28.563197</td>\n      <td>-80.576820</td>\n      <td>0</td>\n    </tr>\n  </tbody>\n</table>\n</div>"
          },
          "metadata": {}
        }
      ],
      "execution_count": 30
    },
    {
      "cell_type": "markdown",
      "source": "Next, let's create markers for all launch records.\nIf a launch was successful `(class=1)`, then we use a green marker and if a launch was failed, we use a red marker `(class=0)`\n",
      "metadata": {}
    },
    {
      "cell_type": "markdown",
      "source": "Note that a launch only happens in one of the four launch sites, which means many launch records will have the exact same coordinate. Marker clusters can be a good way to simplify a map containing many markers having the same coordinate.\n",
      "metadata": {}
    },
    {
      "cell_type": "markdown",
      "source": "Let's first create a `MarkerCluster` object\n",
      "metadata": {}
    },
    {
      "cell_type": "code",
      "source": "marker_cluster = MarkerCluster()",
      "metadata": {
        "trusted": true
      },
      "outputs": [],
      "execution_count": 31
    },
    {
      "cell_type": "markdown",
      "source": "*TODO:* Create a new column in `spacex_df` dataframe called `marker_color` to store the marker colors based on the `class` value\n",
      "metadata": {}
    },
    {
      "cell_type": "code",
      "source": "spacex_df['marker_color'] = ['green' if cl == 1 else 'red' for cl in spacex_df['class']]\n# Apply a function to check the value of `class` column\n# If class=1, marker_color value will be green\n# If class=0, marker_color value will be red",
      "metadata": {
        "trusted": true
      },
      "outputs": [],
      "execution_count": 32
    },
    {
      "cell_type": "markdown",
      "source": "*TODO:* For each launch result in `spacex_df` data frame, add a `folium.Marker` to `marker_cluster`\n",
      "metadata": {}
    },
    {
      "cell_type": "code",
      "source": "# Add marker_cluster to current site_map\nsite_map.add_child(marker_cluster)\n\n# for each row in spacex_df data frame\n# create a Marker object with its coordinate\n# and customize the Marker's icon property to indicate if this launch was successed or failed, \n# e.g., icon=folium.Icon(color='white', icon_color=row['marker_color']\nfor index, record in spacex_df.iterrows():\n    # TODO: Create and add a Marker cluster to the site map\n    coor = [record['Lat'],record['Long']]\n    marker = folium.Marker(coor, folium.Icon(color='white', icon_color=record['marker_color']))\n    marker_cluster.add_child(marker)\n\nsite_map",
      "metadata": {
        "trusted": true
      },
      "outputs": [
        {
          "execution_count": 33,
          "output_type": "execute_result",
          "data": {
            "text/plain": "<folium.folium.Map at 0x482b3b0>",
            "text/html": "<div style=\"width:100%;\"><div style=\"position:relative;width:100%;height:0;padding-bottom:60%;\"><span style=\"color:#565656\">Make this Notebook Trusted to load map: File -> Trust Notebook</span><iframe srcdoc=\"&lt;!DOCTYPE html&gt;\n&lt;html&gt;\n&lt;head&gt;\n    \n    &lt;meta http-equiv=&quot;content-type&quot; content=&quot;text/html; charset=UTF-8&quot; /&gt;\n    \n        &lt;script&gt;\n            L_NO_TOUCH = false;\n            L_DISABLE_3D = false;\n        &lt;/script&gt;\n    \n    &lt;style&gt;html, body {width: 100%;height: 100%;margin: 0;padding: 0;}&lt;/style&gt;\n    &lt;style&gt;#map {position:absolute;top:0;bottom:0;right:0;left:0;}&lt;/style&gt;\n    &lt;script src=&quot;https://cdn.jsdelivr.net/npm/leaflet@1.9.3/dist/leaflet.js&quot;&gt;&lt;/script&gt;\n    &lt;script src=&quot;https://code.jquery.com/jquery-3.7.1.min.js&quot;&gt;&lt;/script&gt;\n    &lt;script src=&quot;https://cdn.jsdelivr.net/npm/bootstrap@5.2.2/dist/js/bootstrap.bundle.min.js&quot;&gt;&lt;/script&gt;\n    &lt;script src=&quot;https://cdnjs.cloudflare.com/ajax/libs/Leaflet.awesome-markers/2.0.2/leaflet.awesome-markers.js&quot;&gt;&lt;/script&gt;\n    &lt;link rel=&quot;stylesheet&quot; href=&quot;https://cdn.jsdelivr.net/npm/leaflet@1.9.3/dist/leaflet.css&quot;/&gt;\n    &lt;link rel=&quot;stylesheet&quot; href=&quot;https://cdn.jsdelivr.net/npm/bootstrap@5.2.2/dist/css/bootstrap.min.css&quot;/&gt;\n    &lt;link rel=&quot;stylesheet&quot; href=&quot;https://netdna.bootstrapcdn.com/bootstrap/3.0.0/css/bootstrap-glyphicons.css&quot;/&gt;\n    &lt;link rel=&quot;stylesheet&quot; href=&quot;https://cdn.jsdelivr.net/npm/@fortawesome/fontawesome-free@6.2.0/css/all.min.css&quot;/&gt;\n    &lt;link rel=&quot;stylesheet&quot; href=&quot;https://cdnjs.cloudflare.com/ajax/libs/Leaflet.awesome-markers/2.0.2/leaflet.awesome-markers.css&quot;/&gt;\n    &lt;link rel=&quot;stylesheet&quot; href=&quot;https://cdn.jsdelivr.net/gh/python-visualization/folium/folium/templates/leaflet.awesome.rotate.min.css&quot;/&gt;\n    \n            &lt;meta name=&quot;viewport&quot; content=&quot;width=device-width,\n                initial-scale=1.0, maximum-scale=1.0, user-scalable=no&quot; /&gt;\n            &lt;style&gt;\n                #map_9b703708e89f3ad02525ff177296a3fd {\n                    position: relative;\n                    width: 100.0%;\n                    height: 100.0%;\n                    left: 0.0%;\n                    top: 0.0%;\n                }\n                .leaflet-container { font-size: 1rem; }\n            &lt;/style&gt;\n        \n    &lt;script src=&quot;https://cdnjs.cloudflare.com/ajax/libs/leaflet.markercluster/1.1.0/leaflet.markercluster.js&quot;&gt;&lt;/script&gt;\n    &lt;link rel=&quot;stylesheet&quot; href=&quot;https://cdnjs.cloudflare.com/ajax/libs/leaflet.markercluster/1.1.0/MarkerCluster.css&quot;/&gt;\n    &lt;link rel=&quot;stylesheet&quot; href=&quot;https://cdnjs.cloudflare.com/ajax/libs/leaflet.markercluster/1.1.0/MarkerCluster.Default.css&quot;/&gt;\n&lt;/head&gt;\n&lt;body&gt;\n    \n    \n            &lt;div class=&quot;folium-map&quot; id=&quot;map_9b703708e89f3ad02525ff177296a3fd&quot; &gt;&lt;/div&gt;\n        \n&lt;/body&gt;\n&lt;script&gt;\n    \n    \n            var map_9b703708e89f3ad02525ff177296a3fd = L.map(\n                &quot;map_9b703708e89f3ad02525ff177296a3fd&quot;,\n                {\n                    center: [29.559684888503615, -95.0830971930759],\n                    crs: L.CRS.EPSG3857,\n                    zoom: 5,\n                    zoomControl: true,\n                    preferCanvas: false,\n                }\n            );\n\n            \n\n        \n    \n            var tile_layer_2375051abc830470c291621ef4573d08 = L.tileLayer(\n                &quot;https://tile.openstreetmap.org/{z}/{x}/{y}.png&quot;,\n                {&quot;attribution&quot;: &quot;\\u0026copy; \\u003ca href=\\&quot;https://www.openstreetmap.org/copyright\\&quot;\\u003eOpenStreetMap\\u003c/a\\u003e contributors&quot;, &quot;detectRetina&quot;: false, &quot;maxNativeZoom&quot;: 19, &quot;maxZoom&quot;: 19, &quot;minZoom&quot;: 0, &quot;noWrap&quot;: false, &quot;opacity&quot;: 1, &quot;subdomains&quot;: &quot;abc&quot;, &quot;tms&quot;: false}\n            );\n        \n    \n            tile_layer_2375051abc830470c291621ef4573d08.addTo(map_9b703708e89f3ad02525ff177296a3fd);\n        \n    \n            var circle_ff1d5d532dea1f7f4e72ec64742cd7d3 = L.circle(\n                [28.56230197, -80.57735648],\n                {&quot;bubblingMouseEvents&quot;: true, &quot;color&quot;: &quot;#000000&quot;, &quot;dashArray&quot;: null, &quot;dashOffset&quot;: null, &quot;fill&quot;: true, &quot;fillColor&quot;: &quot;#000000&quot;, &quot;fillOpacity&quot;: 0.2, &quot;fillRule&quot;: &quot;evenodd&quot;, &quot;lineCap&quot;: &quot;round&quot;, &quot;lineJoin&quot;: &quot;round&quot;, &quot;opacity&quot;: 1.0, &quot;radius&quot;: 1000, &quot;stroke&quot;: true, &quot;weight&quot;: 3}\n            ).addTo(map_9b703708e89f3ad02525ff177296a3fd);\n        \n    \n        var popup_e403d92bb5b139f37719546f0c56382f = L.popup({&quot;maxWidth&quot;: &quot;100%&quot;});\n\n        \n            \n                var html_168ea1d0a23cde7f84dd24b780cdadcf = $(`&lt;div id=&quot;html_168ea1d0a23cde7f84dd24b780cdadcf&quot; style=&quot;width: 100.0%; height: 100.0%;&quot;&gt;CCAFS LC-40&lt;/div&gt;`)[0];\n                popup_e403d92bb5b139f37719546f0c56382f.setContent(html_168ea1d0a23cde7f84dd24b780cdadcf);\n            \n        \n\n        circle_ff1d5d532dea1f7f4e72ec64742cd7d3.bindPopup(popup_e403d92bb5b139f37719546f0c56382f)\n        ;\n\n        \n    \n    \n            var marker_07f7a8c872dee0d5614417b7fe292a18 = L.marker(\n                [28.56230197, -80.57735648],\n                {}\n            ).addTo(map_9b703708e89f3ad02525ff177296a3fd);\n        \n    \n            var div_icon_93fd067670c34b349e109ae0538e9027 = L.divIcon({&quot;className&quot;: &quot;empty&quot;, &quot;html&quot;: &quot;\\u003cdiv style=\\&quot;font-size: 12; color:#d35400;\\&quot;\\u003e\\u003cb\\u003eCCAFS LC-40\\u003c/b\\u003e\\u003c/div\\u003e&quot;, &quot;iconAnchor&quot;: [0, 0], &quot;iconSize&quot;: [20, 20]});\n            marker_07f7a8c872dee0d5614417b7fe292a18.setIcon(div_icon_93fd067670c34b349e109ae0538e9027);\n        \n    \n            var circle_226c32df1901c51da080080f9581b294 = L.circle(\n                [28.56319718, -80.57682003],\n                {&quot;bubblingMouseEvents&quot;: true, &quot;color&quot;: &quot;#000000&quot;, &quot;dashArray&quot;: null, &quot;dashOffset&quot;: null, &quot;fill&quot;: true, &quot;fillColor&quot;: &quot;#000000&quot;, &quot;fillOpacity&quot;: 0.2, &quot;fillRule&quot;: &quot;evenodd&quot;, &quot;lineCap&quot;: &quot;round&quot;, &quot;lineJoin&quot;: &quot;round&quot;, &quot;opacity&quot;: 1.0, &quot;radius&quot;: 1000, &quot;stroke&quot;: true, &quot;weight&quot;: 3}\n            ).addTo(map_9b703708e89f3ad02525ff177296a3fd);\n        \n    \n        var popup_fecb891810d196592118a89d9363cc15 = L.popup({&quot;maxWidth&quot;: &quot;100%&quot;});\n\n        \n            \n                var html_679593c2a7c5e4b1344b2fe72982ff6e = $(`&lt;div id=&quot;html_679593c2a7c5e4b1344b2fe72982ff6e&quot; style=&quot;width: 100.0%; height: 100.0%;&quot;&gt;CCAFS SLC-40&lt;/div&gt;`)[0];\n                popup_fecb891810d196592118a89d9363cc15.setContent(html_679593c2a7c5e4b1344b2fe72982ff6e);\n            \n        \n\n        circle_226c32df1901c51da080080f9581b294.bindPopup(popup_fecb891810d196592118a89d9363cc15)\n        ;\n\n        \n    \n    \n            var marker_94e96ab8a47b857aae29ec170944a7d5 = L.marker(\n                [28.56319718, -80.57682003],\n                {}\n            ).addTo(map_9b703708e89f3ad02525ff177296a3fd);\n        \n    \n            var div_icon_4199b93a55b6d2a2831bc200da65ccaf = L.divIcon({&quot;className&quot;: &quot;empty&quot;, &quot;html&quot;: &quot;\\u003cdiv style=\\&quot;font-size: 12; color:#d35400;\\&quot;\\u003e\\u003cb\\u003eCCAFS SLC-40\\u003c/b\\u003e\\u003c/div\\u003e&quot;, &quot;iconAnchor&quot;: [0, 0], &quot;iconSize&quot;: [20, 20]});\n            marker_94e96ab8a47b857aae29ec170944a7d5.setIcon(div_icon_4199b93a55b6d2a2831bc200da65ccaf);\n        \n    \n            var circle_b3c08fe90484cf243f7c4ef8d160d7f9 = L.circle(\n                [28.57325457, -80.64689529],\n                {&quot;bubblingMouseEvents&quot;: true, &quot;color&quot;: &quot;#000000&quot;, &quot;dashArray&quot;: null, &quot;dashOffset&quot;: null, &quot;fill&quot;: true, &quot;fillColor&quot;: &quot;#000000&quot;, &quot;fillOpacity&quot;: 0.2, &quot;fillRule&quot;: &quot;evenodd&quot;, &quot;lineCap&quot;: &quot;round&quot;, &quot;lineJoin&quot;: &quot;round&quot;, &quot;opacity&quot;: 1.0, &quot;radius&quot;: 1000, &quot;stroke&quot;: true, &quot;weight&quot;: 3}\n            ).addTo(map_9b703708e89f3ad02525ff177296a3fd);\n        \n    \n        var popup_07589ff0be24a648e708ef5312433ece = L.popup({&quot;maxWidth&quot;: &quot;100%&quot;});\n\n        \n            \n                var html_340dbc8aceaa382acab13cdd2c97d5f7 = $(`&lt;div id=&quot;html_340dbc8aceaa382acab13cdd2c97d5f7&quot; style=&quot;width: 100.0%; height: 100.0%;&quot;&gt;KSC LC-39A&lt;/div&gt;`)[0];\n                popup_07589ff0be24a648e708ef5312433ece.setContent(html_340dbc8aceaa382acab13cdd2c97d5f7);\n            \n        \n\n        circle_b3c08fe90484cf243f7c4ef8d160d7f9.bindPopup(popup_07589ff0be24a648e708ef5312433ece)\n        ;\n\n        \n    \n    \n            var marker_d8cb7e4ed249f4eafaedbf759b7b8ee3 = L.marker(\n                [28.57325457, -80.64689529],\n                {}\n            ).addTo(map_9b703708e89f3ad02525ff177296a3fd);\n        \n    \n            var div_icon_f2f99d0fdd21b127f501ccb60b73fcca = L.divIcon({&quot;className&quot;: &quot;empty&quot;, &quot;html&quot;: &quot;\\u003cdiv style=\\&quot;font-size: 12; color:#d35400;\\&quot;\\u003e\\u003cb\\u003eKSC LC-39A\\u003c/b\\u003e\\u003c/div\\u003e&quot;, &quot;iconAnchor&quot;: [0, 0], &quot;iconSize&quot;: [20, 20]});\n            marker_d8cb7e4ed249f4eafaedbf759b7b8ee3.setIcon(div_icon_f2f99d0fdd21b127f501ccb60b73fcca);\n        \n    \n            var circle_7d7628542c126f0d4fb10f06d16d75b9 = L.circle(\n                [34.63283416, -120.6107455],\n                {&quot;bubblingMouseEvents&quot;: true, &quot;color&quot;: &quot;#000000&quot;, &quot;dashArray&quot;: null, &quot;dashOffset&quot;: null, &quot;fill&quot;: true, &quot;fillColor&quot;: &quot;#000000&quot;, &quot;fillOpacity&quot;: 0.2, &quot;fillRule&quot;: &quot;evenodd&quot;, &quot;lineCap&quot;: &quot;round&quot;, &quot;lineJoin&quot;: &quot;round&quot;, &quot;opacity&quot;: 1.0, &quot;radius&quot;: 1000, &quot;stroke&quot;: true, &quot;weight&quot;: 3}\n            ).addTo(map_9b703708e89f3ad02525ff177296a3fd);\n        \n    \n        var popup_0681f2b3fc04018c9512f5992ecc065f = L.popup({&quot;maxWidth&quot;: &quot;100%&quot;});\n\n        \n            \n                var html_dc42de6ad2f31aa673488a2be0885dad = $(`&lt;div id=&quot;html_dc42de6ad2f31aa673488a2be0885dad&quot; style=&quot;width: 100.0%; height: 100.0%;&quot;&gt;VAFB SLC-4E&lt;/div&gt;`)[0];\n                popup_0681f2b3fc04018c9512f5992ecc065f.setContent(html_dc42de6ad2f31aa673488a2be0885dad);\n            \n        \n\n        circle_7d7628542c126f0d4fb10f06d16d75b9.bindPopup(popup_0681f2b3fc04018c9512f5992ecc065f)\n        ;\n\n        \n    \n    \n            var marker_b83bc2b6105c8fb657579b7b15be1343 = L.marker(\n                [34.63283416, -120.6107455],\n                {}\n            ).addTo(map_9b703708e89f3ad02525ff177296a3fd);\n        \n    \n            var div_icon_ae9f3d9f275200dba28aa6e7b2842fe5 = L.divIcon({&quot;className&quot;: &quot;empty&quot;, &quot;html&quot;: &quot;\\u003cdiv style=\\&quot;font-size: 12; color:#d35400;\\&quot;\\u003e\\u003cb\\u003eVAFB SLC-4E\\u003c/b\\u003e\\u003c/div\\u003e&quot;, &quot;iconAnchor&quot;: [0, 0], &quot;iconSize&quot;: [20, 20]});\n            marker_b83bc2b6105c8fb657579b7b15be1343.setIcon(div_icon_ae9f3d9f275200dba28aa6e7b2842fe5);\n        \n    \n            tile_layer_2375051abc830470c291621ef4573d08.addTo(map_9b703708e89f3ad02525ff177296a3fd);\n        \n    \n            var marker_cluster_e5bf3dc543ebc32202de39840eea5019 = L.markerClusterGroup(\n                {}\n            );\n        \n    \n            var marker_1c80a03aeca05f4354e88ff440d645cf = L.marker(\n                [28.56230197, -80.57735648],\n                {}\n            ).addTo(marker_cluster_e5bf3dc543ebc32202de39840eea5019);\n        \n    \n        var popup_400008705a431fa87f91d0c60d3589ce = L.popup({&quot;maxWidth&quot;: &quot;100%&quot;});\n\n        \n            \n                var html_8916e47c592d89352c14715f7b8689ee = $(`&lt;div id=&quot;html_8916e47c592d89352c14715f7b8689ee&quot; style=&quot;width: 100.0%; height: 100.0%;&quot;&gt;&lt;folium.map.Icon object at 0x4a18a60&gt;&lt;/div&gt;`)[0];\n                popup_400008705a431fa87f91d0c60d3589ce.setContent(html_8916e47c592d89352c14715f7b8689ee);\n            \n        \n\n        marker_1c80a03aeca05f4354e88ff440d645cf.bindPopup(popup_400008705a431fa87f91d0c60d3589ce)\n        ;\n\n        \n    \n    \n            var marker_84c3a40c1db183921682db4c59e974cf = L.marker(\n                [28.56230197, -80.57735648],\n                {}\n            ).addTo(marker_cluster_e5bf3dc543ebc32202de39840eea5019);\n        \n    \n        var popup_22fab9c760762c16443ab57c919cb80f = L.popup({&quot;maxWidth&quot;: &quot;100%&quot;});\n\n        \n            \n                var html_00e755866e237d9595db8ab85099a2af = $(`&lt;div id=&quot;html_00e755866e237d9595db8ab85099a2af&quot; style=&quot;width: 100.0%; height: 100.0%;&quot;&gt;&lt;folium.map.Icon object at 0x5fdc9e8&gt;&lt;/div&gt;`)[0];\n                popup_22fab9c760762c16443ab57c919cb80f.setContent(html_00e755866e237d9595db8ab85099a2af);\n            \n        \n\n        marker_84c3a40c1db183921682db4c59e974cf.bindPopup(popup_22fab9c760762c16443ab57c919cb80f)\n        ;\n\n        \n    \n    \n            var marker_6256304fd5817d738acf9459ecf0c979 = L.marker(\n                [28.56230197, -80.57735648],\n                {}\n            ).addTo(marker_cluster_e5bf3dc543ebc32202de39840eea5019);\n        \n    \n        var popup_77aab35ceeb6c96963622e884d4b1bb8 = L.popup({&quot;maxWidth&quot;: &quot;100%&quot;});\n\n        \n            \n                var html_450bb5dec785d44201e90d636e76abad = $(`&lt;div id=&quot;html_450bb5dec785d44201e90d636e76abad&quot; style=&quot;width: 100.0%; height: 100.0%;&quot;&gt;&lt;folium.map.Icon object at 0x602cbc0&gt;&lt;/div&gt;`)[0];\n                popup_77aab35ceeb6c96963622e884d4b1bb8.setContent(html_450bb5dec785d44201e90d636e76abad);\n            \n        \n\n        marker_6256304fd5817d738acf9459ecf0c979.bindPopup(popup_77aab35ceeb6c96963622e884d4b1bb8)\n        ;\n\n        \n    \n    \n            var marker_033f6e496f4e9b24acfa6fa8f7859210 = L.marker(\n                [28.56230197, -80.57735648],\n                {}\n            ).addTo(marker_cluster_e5bf3dc543ebc32202de39840eea5019);\n        \n    \n        var popup_99e787478cf7db7ce1a0e013c2b68234 = L.popup({&quot;maxWidth&quot;: &quot;100%&quot;});\n\n        \n            \n                var html_c3690f1e7c073cbf72addb6f089d2317 = $(`&lt;div id=&quot;html_c3690f1e7c073cbf72addb6f089d2317&quot; style=&quot;width: 100.0%; height: 100.0%;&quot;&gt;&lt;folium.map.Icon object at 0x608e5c0&gt;&lt;/div&gt;`)[0];\n                popup_99e787478cf7db7ce1a0e013c2b68234.setContent(html_c3690f1e7c073cbf72addb6f089d2317);\n            \n        \n\n        marker_033f6e496f4e9b24acfa6fa8f7859210.bindPopup(popup_99e787478cf7db7ce1a0e013c2b68234)\n        ;\n\n        \n    \n    \n            var marker_a19d32079222f1d9ee28a22b2788f197 = L.marker(\n                [28.56230197, -80.57735648],\n                {}\n            ).addTo(marker_cluster_e5bf3dc543ebc32202de39840eea5019);\n        \n    \n        var popup_cf416044120595a939228c4828c15749 = L.popup({&quot;maxWidth&quot;: &quot;100%&quot;});\n\n        \n            \n                var html_39a8c807534a8e70e2b07dbf875ba1c1 = $(`&lt;div id=&quot;html_39a8c807534a8e70e2b07dbf875ba1c1&quot; style=&quot;width: 100.0%; height: 100.0%;&quot;&gt;&lt;folium.map.Icon object at 0x60984d0&gt;&lt;/div&gt;`)[0];\n                popup_cf416044120595a939228c4828c15749.setContent(html_39a8c807534a8e70e2b07dbf875ba1c1);\n            \n        \n\n        marker_a19d32079222f1d9ee28a22b2788f197.bindPopup(popup_cf416044120595a939228c4828c15749)\n        ;\n\n        \n    \n    \n            var marker_4cd18506bb43dab908037cbb340ff825 = L.marker(\n                [28.56230197, -80.57735648],\n                {}\n            ).addTo(marker_cluster_e5bf3dc543ebc32202de39840eea5019);\n        \n    \n        var popup_2b05bfb35e1fc71faca19f11d350f74e = L.popup({&quot;maxWidth&quot;: &quot;100%&quot;});\n\n        \n            \n                var html_18c9314b87bf65a8958f0fd1ce34061d = $(`&lt;div id=&quot;html_18c9314b87bf65a8958f0fd1ce34061d&quot; style=&quot;width: 100.0%; height: 100.0%;&quot;&gt;&lt;folium.map.Icon object at 0x5e081a8&gt;&lt;/div&gt;`)[0];\n                popup_2b05bfb35e1fc71faca19f11d350f74e.setContent(html_18c9314b87bf65a8958f0fd1ce34061d);\n            \n        \n\n        marker_4cd18506bb43dab908037cbb340ff825.bindPopup(popup_2b05bfb35e1fc71faca19f11d350f74e)\n        ;\n\n        \n    \n    \n            var marker_9d66b4179f855a859ce63d77a814aa9c = L.marker(\n                [28.56230197, -80.57735648],\n                {}\n            ).addTo(marker_cluster_e5bf3dc543ebc32202de39840eea5019);\n        \n    \n        var popup_396e1356fdf82280ea52bc3f0c7d2688 = L.popup({&quot;maxWidth&quot;: &quot;100%&quot;});\n\n        \n            \n                var html_d409e7213a35be0974e1c032d9f9edec = $(`&lt;div id=&quot;html_d409e7213a35be0974e1c032d9f9edec&quot; style=&quot;width: 100.0%; height: 100.0%;&quot;&gt;&lt;folium.map.Icon object at 0x5cd2a10&gt;&lt;/div&gt;`)[0];\n                popup_396e1356fdf82280ea52bc3f0c7d2688.setContent(html_d409e7213a35be0974e1c032d9f9edec);\n            \n        \n\n        marker_9d66b4179f855a859ce63d77a814aa9c.bindPopup(popup_396e1356fdf82280ea52bc3f0c7d2688)\n        ;\n\n        \n    \n    \n            var marker_4380437366c0043047c63ba86065fa9a = L.marker(\n                [28.56230197, -80.57735648],\n                {}\n            ).addTo(marker_cluster_e5bf3dc543ebc32202de39840eea5019);\n        \n    \n        var popup_2a61ecb1337613519914c1a3ea24dc54 = L.popup({&quot;maxWidth&quot;: &quot;100%&quot;});\n\n        \n            \n                var html_1bdd890e70c3c2d6d5d495bd046e661b = $(`&lt;div id=&quot;html_1bdd890e70c3c2d6d5d495bd046e661b&quot; style=&quot;width: 100.0%; height: 100.0%;&quot;&gt;&lt;folium.map.Icon object at 0x60c9598&gt;&lt;/div&gt;`)[0];\n                popup_2a61ecb1337613519914c1a3ea24dc54.setContent(html_1bdd890e70c3c2d6d5d495bd046e661b);\n            \n        \n\n        marker_4380437366c0043047c63ba86065fa9a.bindPopup(popup_2a61ecb1337613519914c1a3ea24dc54)\n        ;\n\n        \n    \n    \n            var marker_c4c320469159a77b7a9e6b2af3b9a20b = L.marker(\n                [28.56230197, -80.57735648],\n                {}\n            ).addTo(marker_cluster_e5bf3dc543ebc32202de39840eea5019);\n        \n    \n        var popup_b27b7a429f62b6c0657dd8db28cfc5bc = L.popup({&quot;maxWidth&quot;: &quot;100%&quot;});\n\n        \n            \n                var html_28a94aa19aa6aeef56d22e0b84e8700f = $(`&lt;div id=&quot;html_28a94aa19aa6aeef56d22e0b84e8700f&quot; style=&quot;width: 100.0%; height: 100.0%;&quot;&gt;&lt;folium.map.Icon object at 0x6283f30&gt;&lt;/div&gt;`)[0];\n                popup_b27b7a429f62b6c0657dd8db28cfc5bc.setContent(html_28a94aa19aa6aeef56d22e0b84e8700f);\n            \n        \n\n        marker_c4c320469159a77b7a9e6b2af3b9a20b.bindPopup(popup_b27b7a429f62b6c0657dd8db28cfc5bc)\n        ;\n\n        \n    \n    \n            var marker_236bbeb27175162e177335c3076f2340 = L.marker(\n                [28.56230197, -80.57735648],\n                {}\n            ).addTo(marker_cluster_e5bf3dc543ebc32202de39840eea5019);\n        \n    \n        var popup_067df99ab70a4c0dcef3f86f66273171 = L.popup({&quot;maxWidth&quot;: &quot;100%&quot;});\n\n        \n            \n                var html_bcbfee23941c3e9c4073c896c908aeb7 = $(`&lt;div id=&quot;html_bcbfee23941c3e9c4073c896c908aeb7&quot; style=&quot;width: 100.0%; height: 100.0%;&quot;&gt;&lt;folium.map.Icon object at 0x5194ae8&gt;&lt;/div&gt;`)[0];\n                popup_067df99ab70a4c0dcef3f86f66273171.setContent(html_bcbfee23941c3e9c4073c896c908aeb7);\n            \n        \n\n        marker_236bbeb27175162e177335c3076f2340.bindPopup(popup_067df99ab70a4c0dcef3f86f66273171)\n        ;\n\n        \n    \n    \n            var marker_c85c3dd521698c058694d6ece8388589 = L.marker(\n                [28.56230197, -80.57735648],\n                {}\n            ).addTo(marker_cluster_e5bf3dc543ebc32202de39840eea5019);\n        \n    \n        var popup_5b344b7450cb5aa0be8e71f00b61c124 = L.popup({&quot;maxWidth&quot;: &quot;100%&quot;});\n\n        \n            \n                var html_3c73386251c2292b93522f5684ad0a62 = $(`&lt;div id=&quot;html_3c73386251c2292b93522f5684ad0a62&quot; style=&quot;width: 100.0%; height: 100.0%;&quot;&gt;&lt;folium.map.Icon object at 0x5b02f38&gt;&lt;/div&gt;`)[0];\n                popup_5b344b7450cb5aa0be8e71f00b61c124.setContent(html_3c73386251c2292b93522f5684ad0a62);\n            \n        \n\n        marker_c85c3dd521698c058694d6ece8388589.bindPopup(popup_5b344b7450cb5aa0be8e71f00b61c124)\n        ;\n\n        \n    \n    \n            var marker_24f5df4cbc1fcca09d1a33e02e3b0eb8 = L.marker(\n                [28.56230197, -80.57735648],\n                {}\n            ).addTo(marker_cluster_e5bf3dc543ebc32202de39840eea5019);\n        \n    \n        var popup_16aa421360751eb2beff301f2fef9909 = L.popup({&quot;maxWidth&quot;: &quot;100%&quot;});\n\n        \n            \n                var html_da400efbc367852a317f6c2d48da6c3e = $(`&lt;div id=&quot;html_da400efbc367852a317f6c2d48da6c3e&quot; style=&quot;width: 100.0%; height: 100.0%;&quot;&gt;&lt;folium.map.Icon object at 0x5db9270&gt;&lt;/div&gt;`)[0];\n                popup_16aa421360751eb2beff301f2fef9909.setContent(html_da400efbc367852a317f6c2d48da6c3e);\n            \n        \n\n        marker_24f5df4cbc1fcca09d1a33e02e3b0eb8.bindPopup(popup_16aa421360751eb2beff301f2fef9909)\n        ;\n\n        \n    \n    \n            var marker_a6eb71c642bb443d995924a125747b31 = L.marker(\n                [28.56230197, -80.57735648],\n                {}\n            ).addTo(marker_cluster_e5bf3dc543ebc32202de39840eea5019);\n        \n    \n        var popup_d802b0795488ed4f201869e894af5184 = L.popup({&quot;maxWidth&quot;: &quot;100%&quot;});\n\n        \n            \n                var html_ab4e9b53962f8083b9acdbbcf09ec65d = $(`&lt;div id=&quot;html_ab4e9b53962f8083b9acdbbcf09ec65d&quot; style=&quot;width: 100.0%; height: 100.0%;&quot;&gt;&lt;folium.map.Icon object at 0x5fb45e0&gt;&lt;/div&gt;`)[0];\n                popup_d802b0795488ed4f201869e894af5184.setContent(html_ab4e9b53962f8083b9acdbbcf09ec65d);\n            \n        \n\n        marker_a6eb71c642bb443d995924a125747b31.bindPopup(popup_d802b0795488ed4f201869e894af5184)\n        ;\n\n        \n    \n    \n            var marker_c4d031f7df1b3eb54334d69bd801191a = L.marker(\n                [28.56230197, -80.57735648],\n                {}\n            ).addTo(marker_cluster_e5bf3dc543ebc32202de39840eea5019);\n        \n    \n        var popup_3b73519dee44807986b3837a3d886494 = L.popup({&quot;maxWidth&quot;: &quot;100%&quot;});\n\n        \n            \n                var html_659895afe9171c11b0622839fa66eacc = $(`&lt;div id=&quot;html_659895afe9171c11b0622839fa66eacc&quot; style=&quot;width: 100.0%; height: 100.0%;&quot;&gt;&lt;folium.map.Icon object at 0x5daa650&gt;&lt;/div&gt;`)[0];\n                popup_3b73519dee44807986b3837a3d886494.setContent(html_659895afe9171c11b0622839fa66eacc);\n            \n        \n\n        marker_c4d031f7df1b3eb54334d69bd801191a.bindPopup(popup_3b73519dee44807986b3837a3d886494)\n        ;\n\n        \n    \n    \n            var marker_a383889fc25a68604aae3d17d14b1036 = L.marker(\n                [28.56230197, -80.57735648],\n                {}\n            ).addTo(marker_cluster_e5bf3dc543ebc32202de39840eea5019);\n        \n    \n        var popup_5ee9e3e45533edf3dd7df4848b478056 = L.popup({&quot;maxWidth&quot;: &quot;100%&quot;});\n\n        \n            \n                var html_c980b71dac7ab9762442f4793b3f8e2c = $(`&lt;div id=&quot;html_c980b71dac7ab9762442f4793b3f8e2c&quot; style=&quot;width: 100.0%; height: 100.0%;&quot;&gt;&lt;folium.map.Icon object at 0x5fb7f08&gt;&lt;/div&gt;`)[0];\n                popup_5ee9e3e45533edf3dd7df4848b478056.setContent(html_c980b71dac7ab9762442f4793b3f8e2c);\n            \n        \n\n        marker_a383889fc25a68604aae3d17d14b1036.bindPopup(popup_5ee9e3e45533edf3dd7df4848b478056)\n        ;\n\n        \n    \n    \n            var marker_ea230515de1c4586185a4b5dcd510d79 = L.marker(\n                [28.56230197, -80.57735648],\n                {}\n            ).addTo(marker_cluster_e5bf3dc543ebc32202de39840eea5019);\n        \n    \n        var popup_29ec45b40818c615ceb6ad949ea9aac4 = L.popup({&quot;maxWidth&quot;: &quot;100%&quot;});\n\n        \n            \n                var html_788722dc0ef5f123e59f36b85d15275f = $(`&lt;div id=&quot;html_788722dc0ef5f123e59f36b85d15275f&quot; style=&quot;width: 100.0%; height: 100.0%;&quot;&gt;&lt;folium.map.Icon object at 0x5ceca50&gt;&lt;/div&gt;`)[0];\n                popup_29ec45b40818c615ceb6ad949ea9aac4.setContent(html_788722dc0ef5f123e59f36b85d15275f);\n            \n        \n\n        marker_ea230515de1c4586185a4b5dcd510d79.bindPopup(popup_29ec45b40818c615ceb6ad949ea9aac4)\n        ;\n\n        \n    \n    \n            var marker_d9584d9607b7b8502a9cedbcf14b9c6d = L.marker(\n                [28.56230197, -80.57735648],\n                {}\n            ).addTo(marker_cluster_e5bf3dc543ebc32202de39840eea5019);\n        \n    \n        var popup_91c2c66f3490f3f3f82a9e1b5032d974 = L.popup({&quot;maxWidth&quot;: &quot;100%&quot;});\n\n        \n            \n                var html_2e25d83a1335a740d83679cac84a4c8d = $(`&lt;div id=&quot;html_2e25d83a1335a740d83679cac84a4c8d&quot; style=&quot;width: 100.0%; height: 100.0%;&quot;&gt;&lt;folium.map.Icon object at 0x6075650&gt;&lt;/div&gt;`)[0];\n                popup_91c2c66f3490f3f3f82a9e1b5032d974.setContent(html_2e25d83a1335a740d83679cac84a4c8d);\n            \n        \n\n        marker_d9584d9607b7b8502a9cedbcf14b9c6d.bindPopup(popup_91c2c66f3490f3f3f82a9e1b5032d974)\n        ;\n\n        \n    \n    \n            var marker_6bd11b33f8abf819d3c5b52219357a60 = L.marker(\n                [28.56230197, -80.57735648],\n                {}\n            ).addTo(marker_cluster_e5bf3dc543ebc32202de39840eea5019);\n        \n    \n        var popup_7df5eeb1889f331c38795166af5c6dd7 = L.popup({&quot;maxWidth&quot;: &quot;100%&quot;});\n\n        \n            \n                var html_43ec5113dc1c4b33fba62ca97b45cc39 = $(`&lt;div id=&quot;html_43ec5113dc1c4b33fba62ca97b45cc39&quot; style=&quot;width: 100.0%; height: 100.0%;&quot;&gt;&lt;folium.map.Icon object at 0x604c058&gt;&lt;/div&gt;`)[0];\n                popup_7df5eeb1889f331c38795166af5c6dd7.setContent(html_43ec5113dc1c4b33fba62ca97b45cc39);\n            \n        \n\n        marker_6bd11b33f8abf819d3c5b52219357a60.bindPopup(popup_7df5eeb1889f331c38795166af5c6dd7)\n        ;\n\n        \n    \n    \n            var marker_35307fb0bb81252ef7197af9fd7e9171 = L.marker(\n                [28.56230197, -80.57735648],\n                {}\n            ).addTo(marker_cluster_e5bf3dc543ebc32202de39840eea5019);\n        \n    \n        var popup_a03f7b30eed949660b434871a3a13223 = L.popup({&quot;maxWidth&quot;: &quot;100%&quot;});\n\n        \n            \n                var html_8390ea0f8fce1089c266c0ed517bc622 = $(`&lt;div id=&quot;html_8390ea0f8fce1089c266c0ed517bc622&quot; style=&quot;width: 100.0%; height: 100.0%;&quot;&gt;&lt;folium.map.Icon object at 0x5e13228&gt;&lt;/div&gt;`)[0];\n                popup_a03f7b30eed949660b434871a3a13223.setContent(html_8390ea0f8fce1089c266c0ed517bc622);\n            \n        \n\n        marker_35307fb0bb81252ef7197af9fd7e9171.bindPopup(popup_a03f7b30eed949660b434871a3a13223)\n        ;\n\n        \n    \n    \n            var marker_a0aa22981eaf9eb6c1224af59116a8dd = L.marker(\n                [28.56230197, -80.57735648],\n                {}\n            ).addTo(marker_cluster_e5bf3dc543ebc32202de39840eea5019);\n        \n    \n        var popup_7e576cecf48b179a02b2f1e73fb46a7f = L.popup({&quot;maxWidth&quot;: &quot;100%&quot;});\n\n        \n            \n                var html_f6360d786202beb6d435d85da4a50eb4 = $(`&lt;div id=&quot;html_f6360d786202beb6d435d85da4a50eb4&quot; style=&quot;width: 100.0%; height: 100.0%;&quot;&gt;&lt;folium.map.Icon object at 0x5cf8db8&gt;&lt;/div&gt;`)[0];\n                popup_7e576cecf48b179a02b2f1e73fb46a7f.setContent(html_f6360d786202beb6d435d85da4a50eb4);\n            \n        \n\n        marker_a0aa22981eaf9eb6c1224af59116a8dd.bindPopup(popup_7e576cecf48b179a02b2f1e73fb46a7f)\n        ;\n\n        \n    \n    \n            var marker_d5ef01d400c1bda67ad81eaf8b836ba5 = L.marker(\n                [28.56230197, -80.57735648],\n                {}\n            ).addTo(marker_cluster_e5bf3dc543ebc32202de39840eea5019);\n        \n    \n        var popup_f14e51295a9c9ab295ef34e14ba5f6b7 = L.popup({&quot;maxWidth&quot;: &quot;100%&quot;});\n\n        \n            \n                var html_0c4a70632e3a13781cadc0f8a28518ea = $(`&lt;div id=&quot;html_0c4a70632e3a13781cadc0f8a28518ea&quot; style=&quot;width: 100.0%; height: 100.0%;&quot;&gt;&lt;folium.map.Icon object at 0x5fce030&gt;&lt;/div&gt;`)[0];\n                popup_f14e51295a9c9ab295ef34e14ba5f6b7.setContent(html_0c4a70632e3a13781cadc0f8a28518ea);\n            \n        \n\n        marker_d5ef01d400c1bda67ad81eaf8b836ba5.bindPopup(popup_f14e51295a9c9ab295ef34e14ba5f6b7)\n        ;\n\n        \n    \n    \n            var marker_aa32552d61091d47db0e27103a8b7e11 = L.marker(\n                [28.56230197, -80.57735648],\n                {}\n            ).addTo(marker_cluster_e5bf3dc543ebc32202de39840eea5019);\n        \n    \n        var popup_983ce3836a5e66f7d512a2345efee3bc = L.popup({&quot;maxWidth&quot;: &quot;100%&quot;});\n\n        \n            \n                var html_b8674ed73783f9a2ef151c6c2b5a585e = $(`&lt;div id=&quot;html_b8674ed73783f9a2ef151c6c2b5a585e&quot; style=&quot;width: 100.0%; height: 100.0%;&quot;&gt;&lt;folium.map.Icon object at 0x5c1fc18&gt;&lt;/div&gt;`)[0];\n                popup_983ce3836a5e66f7d512a2345efee3bc.setContent(html_b8674ed73783f9a2ef151c6c2b5a585e);\n            \n        \n\n        marker_aa32552d61091d47db0e27103a8b7e11.bindPopup(popup_983ce3836a5e66f7d512a2345efee3bc)\n        ;\n\n        \n    \n    \n            var marker_393533644754b022eabd3b83d9ae976c = L.marker(\n                [28.56230197, -80.57735648],\n                {}\n            ).addTo(marker_cluster_e5bf3dc543ebc32202de39840eea5019);\n        \n    \n        var popup_d59569cca3c2489dc7b9b3476d4ca423 = L.popup({&quot;maxWidth&quot;: &quot;100%&quot;});\n\n        \n            \n                var html_f058b257af245f90094e25513743b055 = $(`&lt;div id=&quot;html_f058b257af245f90094e25513743b055&quot; style=&quot;width: 100.0%; height: 100.0%;&quot;&gt;&lt;folium.map.Icon object at 0x605e978&gt;&lt;/div&gt;`)[0];\n                popup_d59569cca3c2489dc7b9b3476d4ca423.setContent(html_f058b257af245f90094e25513743b055);\n            \n        \n\n        marker_393533644754b022eabd3b83d9ae976c.bindPopup(popup_d59569cca3c2489dc7b9b3476d4ca423)\n        ;\n\n        \n    \n    \n            var marker_04f986d345ea20925dd4e4cadf1f610e = L.marker(\n                [28.56230197, -80.57735648],\n                {}\n            ).addTo(marker_cluster_e5bf3dc543ebc32202de39840eea5019);\n        \n    \n        var popup_9eae1b032f1219bff40a67754c40a3ea = L.popup({&quot;maxWidth&quot;: &quot;100%&quot;});\n\n        \n            \n                var html_5bc9c0b147b9745cad8a6adcb1851408 = $(`&lt;div id=&quot;html_5bc9c0b147b9745cad8a6adcb1851408&quot; style=&quot;width: 100.0%; height: 100.0%;&quot;&gt;&lt;folium.map.Icon object at 0x61ff5f0&gt;&lt;/div&gt;`)[0];\n                popup_9eae1b032f1219bff40a67754c40a3ea.setContent(html_5bc9c0b147b9745cad8a6adcb1851408);\n            \n        \n\n        marker_04f986d345ea20925dd4e4cadf1f610e.bindPopup(popup_9eae1b032f1219bff40a67754c40a3ea)\n        ;\n\n        \n    \n    \n            var marker_20ff13291417b2f957506d6b7eb24ba4 = L.marker(\n                [28.56230197, -80.57735648],\n                {}\n            ).addTo(marker_cluster_e5bf3dc543ebc32202de39840eea5019);\n        \n    \n        var popup_edb49b30dfc0403d9e041e5b98f662e4 = L.popup({&quot;maxWidth&quot;: &quot;100%&quot;});\n\n        \n            \n                var html_0931d40345b302301cd369a8eeba24e2 = $(`&lt;div id=&quot;html_0931d40345b302301cd369a8eeba24e2&quot; style=&quot;width: 100.0%; height: 100.0%;&quot;&gt;&lt;folium.map.Icon object at 0x60ca9d8&gt;&lt;/div&gt;`)[0];\n                popup_edb49b30dfc0403d9e041e5b98f662e4.setContent(html_0931d40345b302301cd369a8eeba24e2);\n            \n        \n\n        marker_20ff13291417b2f957506d6b7eb24ba4.bindPopup(popup_edb49b30dfc0403d9e041e5b98f662e4)\n        ;\n\n        \n    \n    \n            var marker_56ddaf7b09131f9342cdca2be484b080 = L.marker(\n                [28.56230197, -80.57735648],\n                {}\n            ).addTo(marker_cluster_e5bf3dc543ebc32202de39840eea5019);\n        \n    \n        var popup_d33bc9d91469b1cc42b184670a0afcb5 = L.popup({&quot;maxWidth&quot;: &quot;100%&quot;});\n\n        \n            \n                var html_ccf1cfe2b1d35a7cda47220af4acdd98 = $(`&lt;div id=&quot;html_ccf1cfe2b1d35a7cda47220af4acdd98&quot; style=&quot;width: 100.0%; height: 100.0%;&quot;&gt;&lt;folium.map.Icon object at 0x5ef7600&gt;&lt;/div&gt;`)[0];\n                popup_d33bc9d91469b1cc42b184670a0afcb5.setContent(html_ccf1cfe2b1d35a7cda47220af4acdd98);\n            \n        \n\n        marker_56ddaf7b09131f9342cdca2be484b080.bindPopup(popup_d33bc9d91469b1cc42b184670a0afcb5)\n        ;\n\n        \n    \n    \n            var marker_688e4a7aa495811beb2369edfa2e4aeb = L.marker(\n                [34.63283416, -120.6107455],\n                {}\n            ).addTo(marker_cluster_e5bf3dc543ebc32202de39840eea5019);\n        \n    \n        var popup_c105d5b7bd54f092744e351bc4bedbb2 = L.popup({&quot;maxWidth&quot;: &quot;100%&quot;});\n\n        \n            \n                var html_5a355efa11fe96ed1ebbaff60f3f98f9 = $(`&lt;div id=&quot;html_5a355efa11fe96ed1ebbaff60f3f98f9&quot; style=&quot;width: 100.0%; height: 100.0%;&quot;&gt;&lt;folium.map.Icon object at 0x59fef58&gt;&lt;/div&gt;`)[0];\n                popup_c105d5b7bd54f092744e351bc4bedbb2.setContent(html_5a355efa11fe96ed1ebbaff60f3f98f9);\n            \n        \n\n        marker_688e4a7aa495811beb2369edfa2e4aeb.bindPopup(popup_c105d5b7bd54f092744e351bc4bedbb2)\n        ;\n\n        \n    \n    \n            var marker_72dcc54e33eb13e38c9497fdffaebe17 = L.marker(\n                [34.63283416, -120.6107455],\n                {}\n            ).addTo(marker_cluster_e5bf3dc543ebc32202de39840eea5019);\n        \n    \n        var popup_2321bb32ea2adedf38d918d7cb50f02e = L.popup({&quot;maxWidth&quot;: &quot;100%&quot;});\n\n        \n            \n                var html_d59afe11293747a7ca2f5e696301b546 = $(`&lt;div id=&quot;html_d59afe11293747a7ca2f5e696301b546&quot; style=&quot;width: 100.0%; height: 100.0%;&quot;&gt;&lt;folium.map.Icon object at 0x5ed0d08&gt;&lt;/div&gt;`)[0];\n                popup_2321bb32ea2adedf38d918d7cb50f02e.setContent(html_d59afe11293747a7ca2f5e696301b546);\n            \n        \n\n        marker_72dcc54e33eb13e38c9497fdffaebe17.bindPopup(popup_2321bb32ea2adedf38d918d7cb50f02e)\n        ;\n\n        \n    \n    \n            var marker_3f4cc71b93f2f22bb77850f17e18adfa = L.marker(\n                [34.63283416, -120.6107455],\n                {}\n            ).addTo(marker_cluster_e5bf3dc543ebc32202de39840eea5019);\n        \n    \n        var popup_29e4be6ddde4ef7a17ae53030aa1f8e9 = L.popup({&quot;maxWidth&quot;: &quot;100%&quot;});\n\n        \n            \n                var html_3c2d7d2bab44122b03381004ad138513 = $(`&lt;div id=&quot;html_3c2d7d2bab44122b03381004ad138513&quot; style=&quot;width: 100.0%; height: 100.0%;&quot;&gt;&lt;folium.map.Icon object at 0x605c198&gt;&lt;/div&gt;`)[0];\n                popup_29e4be6ddde4ef7a17ae53030aa1f8e9.setContent(html_3c2d7d2bab44122b03381004ad138513);\n            \n        \n\n        marker_3f4cc71b93f2f22bb77850f17e18adfa.bindPopup(popup_29e4be6ddde4ef7a17ae53030aa1f8e9)\n        ;\n\n        \n    \n    \n            var marker_b86e31e2b2c900435b21860160b6024b = L.marker(\n                [34.63283416, -120.6107455],\n                {}\n            ).addTo(marker_cluster_e5bf3dc543ebc32202de39840eea5019);\n        \n    \n        var popup_0974266bdd52e96d9a8c70c56c42ad34 = L.popup({&quot;maxWidth&quot;: &quot;100%&quot;});\n\n        \n            \n                var html_9f0a5267fcc3ef1060c820d02696e655 = $(`&lt;div id=&quot;html_9f0a5267fcc3ef1060c820d02696e655&quot; style=&quot;width: 100.0%; height: 100.0%;&quot;&gt;&lt;folium.map.Icon object at 0x5d69358&gt;&lt;/div&gt;`)[0];\n                popup_0974266bdd52e96d9a8c70c56c42ad34.setContent(html_9f0a5267fcc3ef1060c820d02696e655);\n            \n        \n\n        marker_b86e31e2b2c900435b21860160b6024b.bindPopup(popup_0974266bdd52e96d9a8c70c56c42ad34)\n        ;\n\n        \n    \n    \n            var marker_3f1d5e38f0e99e9bc5578895dbb8a4dd = L.marker(\n                [34.63283416, -120.6107455],\n                {}\n            ).addTo(marker_cluster_e5bf3dc543ebc32202de39840eea5019);\n        \n    \n        var popup_2db068de010cb64a197dac364a20fe8b = L.popup({&quot;maxWidth&quot;: &quot;100%&quot;});\n\n        \n            \n                var html_ae5d604cb16d2aaf40924b5b98087c60 = $(`&lt;div id=&quot;html_ae5d604cb16d2aaf40924b5b98087c60&quot; style=&quot;width: 100.0%; height: 100.0%;&quot;&gt;&lt;folium.map.Icon object at 0x601f5e0&gt;&lt;/div&gt;`)[0];\n                popup_2db068de010cb64a197dac364a20fe8b.setContent(html_ae5d604cb16d2aaf40924b5b98087c60);\n            \n        \n\n        marker_3f1d5e38f0e99e9bc5578895dbb8a4dd.bindPopup(popup_2db068de010cb64a197dac364a20fe8b)\n        ;\n\n        \n    \n    \n            var marker_485f62360be5bc4dafee738ae7be6d0b = L.marker(\n                [34.63283416, -120.6107455],\n                {}\n            ).addTo(marker_cluster_e5bf3dc543ebc32202de39840eea5019);\n        \n    \n        var popup_70a72217dc12b953559c7284279e8894 = L.popup({&quot;maxWidth&quot;: &quot;100%&quot;});\n\n        \n            \n                var html_5dacc5f7d1de4c0919705dc04d1e12c3 = $(`&lt;div id=&quot;html_5dacc5f7d1de4c0919705dc04d1e12c3&quot; style=&quot;width: 100.0%; height: 100.0%;&quot;&gt;&lt;folium.map.Icon object at 0x6059520&gt;&lt;/div&gt;`)[0];\n                popup_70a72217dc12b953559c7284279e8894.setContent(html_5dacc5f7d1de4c0919705dc04d1e12c3);\n            \n        \n\n        marker_485f62360be5bc4dafee738ae7be6d0b.bindPopup(popup_70a72217dc12b953559c7284279e8894)\n        ;\n\n        \n    \n    \n            var marker_75e7a951c17e2aa508eebd4d6dafc027 = L.marker(\n                [34.63283416, -120.6107455],\n                {}\n            ).addTo(marker_cluster_e5bf3dc543ebc32202de39840eea5019);\n        \n    \n        var popup_c324abb267b0822d011b875ec922200a = L.popup({&quot;maxWidth&quot;: &quot;100%&quot;});\n\n        \n            \n                var html_4d6e83f696872bda6b6f8c241c418609 = $(`&lt;div id=&quot;html_4d6e83f696872bda6b6f8c241c418609&quot; style=&quot;width: 100.0%; height: 100.0%;&quot;&gt;&lt;folium.map.Icon object at 0x60018c0&gt;&lt;/div&gt;`)[0];\n                popup_c324abb267b0822d011b875ec922200a.setContent(html_4d6e83f696872bda6b6f8c241c418609);\n            \n        \n\n        marker_75e7a951c17e2aa508eebd4d6dafc027.bindPopup(popup_c324abb267b0822d011b875ec922200a)\n        ;\n\n        \n    \n    \n            var marker_d6463382715d33133b8b5e3b0d85bcf7 = L.marker(\n                [34.63283416, -120.6107455],\n                {}\n            ).addTo(marker_cluster_e5bf3dc543ebc32202de39840eea5019);\n        \n    \n        var popup_fb42fc829d2e2eabc1cbbb0aad27c53c = L.popup({&quot;maxWidth&quot;: &quot;100%&quot;});\n\n        \n            \n                var html_5ee116a6673f549bba4fc6f6ce9a2b4c = $(`&lt;div id=&quot;html_5ee116a6673f549bba4fc6f6ce9a2b4c&quot; style=&quot;width: 100.0%; height: 100.0%;&quot;&gt;&lt;folium.map.Icon object at 0x59fcc70&gt;&lt;/div&gt;`)[0];\n                popup_fb42fc829d2e2eabc1cbbb0aad27c53c.setContent(html_5ee116a6673f549bba4fc6f6ce9a2b4c);\n            \n        \n\n        marker_d6463382715d33133b8b5e3b0d85bcf7.bindPopup(popup_fb42fc829d2e2eabc1cbbb0aad27c53c)\n        ;\n\n        \n    \n    \n            var marker_5d2dc04084ec6940dd927a3bdd90b67d = L.marker(\n                [34.63283416, -120.6107455],\n                {}\n            ).addTo(marker_cluster_e5bf3dc543ebc32202de39840eea5019);\n        \n    \n        var popup_662b46c4578b67697499f8e4da68bfe4 = L.popup({&quot;maxWidth&quot;: &quot;100%&quot;});\n\n        \n            \n                var html_f9f4a9bfaae093880d6b469434b44a1d = $(`&lt;div id=&quot;html_f9f4a9bfaae093880d6b469434b44a1d&quot; style=&quot;width: 100.0%; height: 100.0%;&quot;&gt;&lt;folium.map.Icon object at 0x5eed438&gt;&lt;/div&gt;`)[0];\n                popup_662b46c4578b67697499f8e4da68bfe4.setContent(html_f9f4a9bfaae093880d6b469434b44a1d);\n            \n        \n\n        marker_5d2dc04084ec6940dd927a3bdd90b67d.bindPopup(popup_662b46c4578b67697499f8e4da68bfe4)\n        ;\n\n        \n    \n    \n            var marker_8a221e87e294056692f6853c569d7dd0 = L.marker(\n                [34.63283416, -120.6107455],\n                {}\n            ).addTo(marker_cluster_e5bf3dc543ebc32202de39840eea5019);\n        \n    \n        var popup_bd156c91c6c261e4a35dffca98dd6595 = L.popup({&quot;maxWidth&quot;: &quot;100%&quot;});\n\n        \n            \n                var html_0d42b41487ebe1222718d7d7695acc53 = $(`&lt;div id=&quot;html_0d42b41487ebe1222718d7d7695acc53&quot; style=&quot;width: 100.0%; height: 100.0%;&quot;&gt;&lt;folium.map.Icon object at 0x5a083a8&gt;&lt;/div&gt;`)[0];\n                popup_bd156c91c6c261e4a35dffca98dd6595.setContent(html_0d42b41487ebe1222718d7d7695acc53);\n            \n        \n\n        marker_8a221e87e294056692f6853c569d7dd0.bindPopup(popup_bd156c91c6c261e4a35dffca98dd6595)\n        ;\n\n        \n    \n    \n            var marker_218813288b38378fe177b67221e3020d = L.marker(\n                [28.57325457, -80.64689529],\n                {}\n            ).addTo(marker_cluster_e5bf3dc543ebc32202de39840eea5019);\n        \n    \n        var popup_c6d86a748e62d4733414392debfefe63 = L.popup({&quot;maxWidth&quot;: &quot;100%&quot;});\n\n        \n            \n                var html_70628cc7c4b1607f6822fd748525d13c = $(`&lt;div id=&quot;html_70628cc7c4b1607f6822fd748525d13c&quot; style=&quot;width: 100.0%; height: 100.0%;&quot;&gt;&lt;folium.map.Icon object at 0x602de48&gt;&lt;/div&gt;`)[0];\n                popup_c6d86a748e62d4733414392debfefe63.setContent(html_70628cc7c4b1607f6822fd748525d13c);\n            \n        \n\n        marker_218813288b38378fe177b67221e3020d.bindPopup(popup_c6d86a748e62d4733414392debfefe63)\n        ;\n\n        \n    \n    \n            var marker_7cd094ccfe3d8eea600f5657dba13d85 = L.marker(\n                [28.57325457, -80.64689529],\n                {}\n            ).addTo(marker_cluster_e5bf3dc543ebc32202de39840eea5019);\n        \n    \n        var popup_c599995e6578b89979e9f40a0b1e856a = L.popup({&quot;maxWidth&quot;: &quot;100%&quot;});\n\n        \n            \n                var html_4a65afc78bd56858219e1ec1893aca51 = $(`&lt;div id=&quot;html_4a65afc78bd56858219e1ec1893aca51&quot; style=&quot;width: 100.0%; height: 100.0%;&quot;&gt;&lt;folium.map.Icon object at 0x5ccd368&gt;&lt;/div&gt;`)[0];\n                popup_c599995e6578b89979e9f40a0b1e856a.setContent(html_4a65afc78bd56858219e1ec1893aca51);\n            \n        \n\n        marker_7cd094ccfe3d8eea600f5657dba13d85.bindPopup(popup_c599995e6578b89979e9f40a0b1e856a)\n        ;\n\n        \n    \n    \n            var marker_1baa8c4c7929dcab9a0f84ad16be8b6d = L.marker(\n                [28.57325457, -80.64689529],\n                {}\n            ).addTo(marker_cluster_e5bf3dc543ebc32202de39840eea5019);\n        \n    \n        var popup_c7f8faba4610f5c8ed01a09730c55831 = L.popup({&quot;maxWidth&quot;: &quot;100%&quot;});\n\n        \n            \n                var html_6cd42112d5281cf201c7eb91d012cbaa = $(`&lt;div id=&quot;html_6cd42112d5281cf201c7eb91d012cbaa&quot; style=&quot;width: 100.0%; height: 100.0%;&quot;&gt;&lt;folium.map.Icon object at 0x5d65d90&gt;&lt;/div&gt;`)[0];\n                popup_c7f8faba4610f5c8ed01a09730c55831.setContent(html_6cd42112d5281cf201c7eb91d012cbaa);\n            \n        \n\n        marker_1baa8c4c7929dcab9a0f84ad16be8b6d.bindPopup(popup_c7f8faba4610f5c8ed01a09730c55831)\n        ;\n\n        \n    \n    \n            var marker_beaef228242f9f739204b67755d2a4f8 = L.marker(\n                [28.57325457, -80.64689529],\n                {}\n            ).addTo(marker_cluster_e5bf3dc543ebc32202de39840eea5019);\n        \n    \n        var popup_3662259de7c60e8776202fc08d22ea3b = L.popup({&quot;maxWidth&quot;: &quot;100%&quot;});\n\n        \n            \n                var html_20a7074d7f056a3535c3724ba45512e8 = $(`&lt;div id=&quot;html_20a7074d7f056a3535c3724ba45512e8&quot; style=&quot;width: 100.0%; height: 100.0%;&quot;&gt;&lt;folium.map.Icon object at 0x6022670&gt;&lt;/div&gt;`)[0];\n                popup_3662259de7c60e8776202fc08d22ea3b.setContent(html_20a7074d7f056a3535c3724ba45512e8);\n            \n        \n\n        marker_beaef228242f9f739204b67755d2a4f8.bindPopup(popup_3662259de7c60e8776202fc08d22ea3b)\n        ;\n\n        \n    \n    \n            var marker_a44bcec147c7e259ce9fdbdfd07b4cb7 = L.marker(\n                [28.57325457, -80.64689529],\n                {}\n            ).addTo(marker_cluster_e5bf3dc543ebc32202de39840eea5019);\n        \n    \n        var popup_5031e6ba1487908b410752790d1be74f = L.popup({&quot;maxWidth&quot;: &quot;100%&quot;});\n\n        \n            \n                var html_b70b255d0523eb1dfb53ef98cc2141f6 = $(`&lt;div id=&quot;html_b70b255d0523eb1dfb53ef98cc2141f6&quot; style=&quot;width: 100.0%; height: 100.0%;&quot;&gt;&lt;folium.map.Icon object at 0x59b3d68&gt;&lt;/div&gt;`)[0];\n                popup_5031e6ba1487908b410752790d1be74f.setContent(html_b70b255d0523eb1dfb53ef98cc2141f6);\n            \n        \n\n        marker_a44bcec147c7e259ce9fdbdfd07b4cb7.bindPopup(popup_5031e6ba1487908b410752790d1be74f)\n        ;\n\n        \n    \n    \n            var marker_5a7e81992707848d0aeaec703ed1267c = L.marker(\n                [28.57325457, -80.64689529],\n                {}\n            ).addTo(marker_cluster_e5bf3dc543ebc32202de39840eea5019);\n        \n    \n        var popup_9ab8216c0535ac721e124cfd85d5d64d = L.popup({&quot;maxWidth&quot;: &quot;100%&quot;});\n\n        \n            \n                var html_9ee8437f77152db952c5f28ccf0df608 = $(`&lt;div id=&quot;html_9ee8437f77152db952c5f28ccf0df608&quot; style=&quot;width: 100.0%; height: 100.0%;&quot;&gt;&lt;folium.map.Icon object at 0x59bc538&gt;&lt;/div&gt;`)[0];\n                popup_9ab8216c0535ac721e124cfd85d5d64d.setContent(html_9ee8437f77152db952c5f28ccf0df608);\n            \n        \n\n        marker_5a7e81992707848d0aeaec703ed1267c.bindPopup(popup_9ab8216c0535ac721e124cfd85d5d64d)\n        ;\n\n        \n    \n    \n            var marker_600ede3c008413689dbc738bfe16877b = L.marker(\n                [28.57325457, -80.64689529],\n                {}\n            ).addTo(marker_cluster_e5bf3dc543ebc32202de39840eea5019);\n        \n    \n        var popup_587d562afb5f3a6b04851786b71574ec = L.popup({&quot;maxWidth&quot;: &quot;100%&quot;});\n\n        \n            \n                var html_0a5bc10db9437bbc22c0eb472b7b1b91 = $(`&lt;div id=&quot;html_0a5bc10db9437bbc22c0eb472b7b1b91&quot; style=&quot;width: 100.0%; height: 100.0%;&quot;&gt;&lt;folium.map.Icon object at 0x5fbdb18&gt;&lt;/div&gt;`)[0];\n                popup_587d562afb5f3a6b04851786b71574ec.setContent(html_0a5bc10db9437bbc22c0eb472b7b1b91);\n            \n        \n\n        marker_600ede3c008413689dbc738bfe16877b.bindPopup(popup_587d562afb5f3a6b04851786b71574ec)\n        ;\n\n        \n    \n    \n            var marker_0dd7285d712ddcf1296f6bf1f4bb8389 = L.marker(\n                [28.57325457, -80.64689529],\n                {}\n            ).addTo(marker_cluster_e5bf3dc543ebc32202de39840eea5019);\n        \n    \n        var popup_a4006301444546f704ea5d2178aeed3a = L.popup({&quot;maxWidth&quot;: &quot;100%&quot;});\n\n        \n            \n                var html_e36071995e22973a4c4944d78897349e = $(`&lt;div id=&quot;html_e36071995e22973a4c4944d78897349e&quot; style=&quot;width: 100.0%; height: 100.0%;&quot;&gt;&lt;folium.map.Icon object at 0x5cd6d60&gt;&lt;/div&gt;`)[0];\n                popup_a4006301444546f704ea5d2178aeed3a.setContent(html_e36071995e22973a4c4944d78897349e);\n            \n        \n\n        marker_0dd7285d712ddcf1296f6bf1f4bb8389.bindPopup(popup_a4006301444546f704ea5d2178aeed3a)\n        ;\n\n        \n    \n    \n            var marker_ada18d2e7380ac943a53212588211562 = L.marker(\n                [28.57325457, -80.64689529],\n                {}\n            ).addTo(marker_cluster_e5bf3dc543ebc32202de39840eea5019);\n        \n    \n        var popup_5e466d4ce3bc0513ab986dc1377a1a04 = L.popup({&quot;maxWidth&quot;: &quot;100%&quot;});\n\n        \n            \n                var html_87f72023a1bd6721ca5df425d5f02b0c = $(`&lt;div id=&quot;html_87f72023a1bd6721ca5df425d5f02b0c&quot; style=&quot;width: 100.0%; height: 100.0%;&quot;&gt;&lt;folium.map.Icon object at 0x5d643b0&gt;&lt;/div&gt;`)[0];\n                popup_5e466d4ce3bc0513ab986dc1377a1a04.setContent(html_87f72023a1bd6721ca5df425d5f02b0c);\n            \n        \n\n        marker_ada18d2e7380ac943a53212588211562.bindPopup(popup_5e466d4ce3bc0513ab986dc1377a1a04)\n        ;\n\n        \n    \n    \n            var marker_ab11c884e9d41e610fb3f556acf63304 = L.marker(\n                [28.57325457, -80.64689529],\n                {}\n            ).addTo(marker_cluster_e5bf3dc543ebc32202de39840eea5019);\n        \n    \n        var popup_e7f73f8eb54ff00cbe0cdfad8ce0c6fe = L.popup({&quot;maxWidth&quot;: &quot;100%&quot;});\n\n        \n            \n                var html_6b0b06ee4a1d120c42c4583abb0756de = $(`&lt;div id=&quot;html_6b0b06ee4a1d120c42c4583abb0756de&quot; style=&quot;width: 100.0%; height: 100.0%;&quot;&gt;&lt;folium.map.Icon object at 0x60096b0&gt;&lt;/div&gt;`)[0];\n                popup_e7f73f8eb54ff00cbe0cdfad8ce0c6fe.setContent(html_6b0b06ee4a1d120c42c4583abb0756de);\n            \n        \n\n        marker_ab11c884e9d41e610fb3f556acf63304.bindPopup(popup_e7f73f8eb54ff00cbe0cdfad8ce0c6fe)\n        ;\n\n        \n    \n    \n            var marker_a80c9d113dbc6e9d5a0bbb06e04d563e = L.marker(\n                [28.57325457, -80.64689529],\n                {}\n            ).addTo(marker_cluster_e5bf3dc543ebc32202de39840eea5019);\n        \n    \n        var popup_f3c1bbc0cd28e129f2afbbf908d5a4b0 = L.popup({&quot;maxWidth&quot;: &quot;100%&quot;});\n\n        \n            \n                var html_9fc44d6fc5d8ab5e89b32ee082c7b30c = $(`&lt;div id=&quot;html_9fc44d6fc5d8ab5e89b32ee082c7b30c&quot; style=&quot;width: 100.0%; height: 100.0%;&quot;&gt;&lt;folium.map.Icon object at 0x5ec1620&gt;&lt;/div&gt;`)[0];\n                popup_f3c1bbc0cd28e129f2afbbf908d5a4b0.setContent(html_9fc44d6fc5d8ab5e89b32ee082c7b30c);\n            \n        \n\n        marker_a80c9d113dbc6e9d5a0bbb06e04d563e.bindPopup(popup_f3c1bbc0cd28e129f2afbbf908d5a4b0)\n        ;\n\n        \n    \n    \n            var marker_c4e21483d662f495fd86c8d88a1d6d2d = L.marker(\n                [28.57325457, -80.64689529],\n                {}\n            ).addTo(marker_cluster_e5bf3dc543ebc32202de39840eea5019);\n        \n    \n        var popup_0a02dba3c25c8d8e419a611ffa4d8e90 = L.popup({&quot;maxWidth&quot;: &quot;100%&quot;});\n\n        \n            \n                var html_71157305ac305d475b4a0c1df1989b30 = $(`&lt;div id=&quot;html_71157305ac305d475b4a0c1df1989b30&quot; style=&quot;width: 100.0%; height: 100.0%;&quot;&gt;&lt;folium.map.Icon object at 0x5c02c28&gt;&lt;/div&gt;`)[0];\n                popup_0a02dba3c25c8d8e419a611ffa4d8e90.setContent(html_71157305ac305d475b4a0c1df1989b30);\n            \n        \n\n        marker_c4e21483d662f495fd86c8d88a1d6d2d.bindPopup(popup_0a02dba3c25c8d8e419a611ffa4d8e90)\n        ;\n\n        \n    \n    \n            var marker_f3c3b0a84d5111c669916c59182a322d = L.marker(\n                [28.57325457, -80.64689529],\n                {}\n            ).addTo(marker_cluster_e5bf3dc543ebc32202de39840eea5019);\n        \n    \n        var popup_62378bc3f5507f2c26504ea76f065c49 = L.popup({&quot;maxWidth&quot;: &quot;100%&quot;});\n\n        \n            \n                var html_49069eb6d6d4185336a76ed35a9704df = $(`&lt;div id=&quot;html_49069eb6d6d4185336a76ed35a9704df&quot; style=&quot;width: 100.0%; height: 100.0%;&quot;&gt;&lt;folium.map.Icon object at 0x6000228&gt;&lt;/div&gt;`)[0];\n                popup_62378bc3f5507f2c26504ea76f065c49.setContent(html_49069eb6d6d4185336a76ed35a9704df);\n            \n        \n\n        marker_f3c3b0a84d5111c669916c59182a322d.bindPopup(popup_62378bc3f5507f2c26504ea76f065c49)\n        ;\n\n        \n    \n    \n            var marker_b31d40fe5630b2aba6b6d92806916ae3 = L.marker(\n                [28.56319718, -80.57682003],\n                {}\n            ).addTo(marker_cluster_e5bf3dc543ebc32202de39840eea5019);\n        \n    \n        var popup_ea1039db91a6563bc69d010c0a19f9e0 = L.popup({&quot;maxWidth&quot;: &quot;100%&quot;});\n\n        \n            \n                var html_3abdb594198d764eb0ee826042c4ac02 = $(`&lt;div id=&quot;html_3abdb594198d764eb0ee826042c4ac02&quot; style=&quot;width: 100.0%; height: 100.0%;&quot;&gt;&lt;folium.map.Icon object at 0x5fc6ae8&gt;&lt;/div&gt;`)[0];\n                popup_ea1039db91a6563bc69d010c0a19f9e0.setContent(html_3abdb594198d764eb0ee826042c4ac02);\n            \n        \n\n        marker_b31d40fe5630b2aba6b6d92806916ae3.bindPopup(popup_ea1039db91a6563bc69d010c0a19f9e0)\n        ;\n\n        \n    \n    \n            var marker_af32348e9da893f11381b9212291318e = L.marker(\n                [28.56319718, -80.57682003],\n                {}\n            ).addTo(marker_cluster_e5bf3dc543ebc32202de39840eea5019);\n        \n    \n        var popup_84aa51969c97c2b23f143372cc0580c1 = L.popup({&quot;maxWidth&quot;: &quot;100%&quot;});\n\n        \n            \n                var html_c7dc8f09c4083b55a437938c07b9b889 = $(`&lt;div id=&quot;html_c7dc8f09c4083b55a437938c07b9b889&quot; style=&quot;width: 100.0%; height: 100.0%;&quot;&gt;&lt;folium.map.Icon object at 0x5c94418&gt;&lt;/div&gt;`)[0];\n                popup_84aa51969c97c2b23f143372cc0580c1.setContent(html_c7dc8f09c4083b55a437938c07b9b889);\n            \n        \n\n        marker_af32348e9da893f11381b9212291318e.bindPopup(popup_84aa51969c97c2b23f143372cc0580c1)\n        ;\n\n        \n    \n    \n            var marker_eba8a354adcc0d4b63bf444047e12b1f = L.marker(\n                [28.56319718, -80.57682003],\n                {}\n            ).addTo(marker_cluster_e5bf3dc543ebc32202de39840eea5019);\n        \n    \n        var popup_662453277931f8759ba2f3df37fb43d7 = L.popup({&quot;maxWidth&quot;: &quot;100%&quot;});\n\n        \n            \n                var html_b91a367b45ecff365976cce1043909c3 = $(`&lt;div id=&quot;html_b91a367b45ecff365976cce1043909c3&quot; style=&quot;width: 100.0%; height: 100.0%;&quot;&gt;&lt;folium.map.Icon object at 0x6059198&gt;&lt;/div&gt;`)[0];\n                popup_662453277931f8759ba2f3df37fb43d7.setContent(html_b91a367b45ecff365976cce1043909c3);\n            \n        \n\n        marker_eba8a354adcc0d4b63bf444047e12b1f.bindPopup(popup_662453277931f8759ba2f3df37fb43d7)\n        ;\n\n        \n    \n    \n            var marker_563e9df47bb760f6f26b4715c4665fa1 = L.marker(\n                [28.56319718, -80.57682003],\n                {}\n            ).addTo(marker_cluster_e5bf3dc543ebc32202de39840eea5019);\n        \n    \n        var popup_7c62dd2d340c10387de7cfdc2bf14de6 = L.popup({&quot;maxWidth&quot;: &quot;100%&quot;});\n\n        \n            \n                var html_6bd2f6bbc91c35bc330625b369f94f66 = $(`&lt;div id=&quot;html_6bd2f6bbc91c35bc330625b369f94f66&quot; style=&quot;width: 100.0%; height: 100.0%;&quot;&gt;&lt;folium.map.Icon object at 0x59b3988&gt;&lt;/div&gt;`)[0];\n                popup_7c62dd2d340c10387de7cfdc2bf14de6.setContent(html_6bd2f6bbc91c35bc330625b369f94f66);\n            \n        \n\n        marker_563e9df47bb760f6f26b4715c4665fa1.bindPopup(popup_7c62dd2d340c10387de7cfdc2bf14de6)\n        ;\n\n        \n    \n    \n            var marker_6b754683ccd73bf8817b23c3b7668285 = L.marker(\n                [28.56319718, -80.57682003],\n                {}\n            ).addTo(marker_cluster_e5bf3dc543ebc32202de39840eea5019);\n        \n    \n        var popup_d99b0dbb11ddad09b0e4ef9a58ce7aeb = L.popup({&quot;maxWidth&quot;: &quot;100%&quot;});\n\n        \n            \n                var html_841b152a337a276247fc4de00d51f561 = $(`&lt;div id=&quot;html_841b152a337a276247fc4de00d51f561&quot; style=&quot;width: 100.0%; height: 100.0%;&quot;&gt;&lt;folium.map.Icon object at 0x5edc400&gt;&lt;/div&gt;`)[0];\n                popup_d99b0dbb11ddad09b0e4ef9a58ce7aeb.setContent(html_841b152a337a276247fc4de00d51f561);\n            \n        \n\n        marker_6b754683ccd73bf8817b23c3b7668285.bindPopup(popup_d99b0dbb11ddad09b0e4ef9a58ce7aeb)\n        ;\n\n        \n    \n    \n            var marker_915c834ba662f9ebb322954dd8c078fb = L.marker(\n                [28.56319718, -80.57682003],\n                {}\n            ).addTo(marker_cluster_e5bf3dc543ebc32202de39840eea5019);\n        \n    \n        var popup_156463441403f2bd7f825ff6a923ff2e = L.popup({&quot;maxWidth&quot;: &quot;100%&quot;});\n\n        \n            \n                var html_632f6c800c2c4799a9691a6ffe2b6bc8 = $(`&lt;div id=&quot;html_632f6c800c2c4799a9691a6ffe2b6bc8&quot; style=&quot;width: 100.0%; height: 100.0%;&quot;&gt;&lt;folium.map.Icon object at 0x608bdb8&gt;&lt;/div&gt;`)[0];\n                popup_156463441403f2bd7f825ff6a923ff2e.setContent(html_632f6c800c2c4799a9691a6ffe2b6bc8);\n            \n        \n\n        marker_915c834ba662f9ebb322954dd8c078fb.bindPopup(popup_156463441403f2bd7f825ff6a923ff2e)\n        ;\n\n        \n    \n    \n            var marker_8c043dae0fa4847e4ab719710a740493 = L.marker(\n                [28.56319718, -80.57682003],\n                {}\n            ).addTo(marker_cluster_e5bf3dc543ebc32202de39840eea5019);\n        \n    \n        var popup_b09e02ef89bc4ee0f7d06b5d2a29ca8d = L.popup({&quot;maxWidth&quot;: &quot;100%&quot;});\n\n        \n            \n                var html_3ac9e3ee216fd09e899e9ca3dfc06952 = $(`&lt;div id=&quot;html_3ac9e3ee216fd09e899e9ca3dfc06952&quot; style=&quot;width: 100.0%; height: 100.0%;&quot;&gt;&lt;folium.map.Icon object at 0x59b5f68&gt;&lt;/div&gt;`)[0];\n                popup_b09e02ef89bc4ee0f7d06b5d2a29ca8d.setContent(html_3ac9e3ee216fd09e899e9ca3dfc06952);\n            \n        \n\n        marker_8c043dae0fa4847e4ab719710a740493.bindPopup(popup_b09e02ef89bc4ee0f7d06b5d2a29ca8d)\n        ;\n\n        \n    \n    \n            marker_cluster_e5bf3dc543ebc32202de39840eea5019.addTo(map_9b703708e89f3ad02525ff177296a3fd);\n        \n&lt;/script&gt;\n&lt;/html&gt;\" style=\"position:absolute;width:100%;height:100%;left:0;top:0;border:none !important;\" allowfullscreen webkitallowfullscreen mozallowfullscreen></iframe></div></div>"
          },
          "metadata": {}
        }
      ],
      "execution_count": 33
    },
    {
      "cell_type": "markdown",
      "source": "Your updated map may look like the following screenshots:\n",
      "metadata": {}
    },
    {
      "cell_type": "markdown",
      "source": "<center>\n    <img src=\"https://cf-courses-data.s3.us.cloud-object-storage.appdomain.cloud/IBM-DS0321EN-SkillsNetwork/labs/module_3/images/launch_site_marker_cluster.png\">\n</center>\n",
      "metadata": {}
    },
    {
      "cell_type": "markdown",
      "source": "<center>\n    <img src=\"https://cf-courses-data.s3.us.cloud-object-storage.appdomain.cloud/IBM-DS0321EN-SkillsNetwork/labs/module_3/images/launch_site_marker_cluster_zoomed.png\">\n</center>\n",
      "metadata": {}
    },
    {
      "cell_type": "markdown",
      "source": "From the color-labeled markers in marker clusters, you should be able to easily identify which launch sites have relatively high success rates.\n",
      "metadata": {}
    },
    {
      "cell_type": "markdown",
      "source": "# TASK 3: Calculate the distances between a launch site to its proximities\n",
      "metadata": {}
    },
    {
      "cell_type": "markdown",
      "source": "Next, we need to explore and analyze the proximities of launch sites.\n",
      "metadata": {}
    },
    {
      "cell_type": "markdown",
      "source": "Let's first add a `MousePosition` on the map to get coordinate for a mouse over a point on the map. As such, while you are exploring the map, you can easily find the coordinates of any points of interests (such as railway)\n",
      "metadata": {}
    },
    {
      "cell_type": "code",
      "source": "# Add Mouse Position to get the coordinate (Lat, Long) for a mouse over on the map\nformatter = \"function(num) {return L.Util.formatNum(num, 5);};\"\nmouse_position = MousePosition(\n    position='topright',\n    separator=' Long: ',\n    empty_string='NaN',\n    lng_first=False,\n    num_digits=20,\n    prefix='Lat:',\n    lat_formatter=formatter,\n    lng_formatter=formatter,\n)\n\nsite_map.add_child(mouse_position)\nsite_map",
      "metadata": {
        "trusted": true
      },
      "outputs": [],
      "execution_count": null
    },
    {
      "cell_type": "markdown",
      "source": "Now zoom in to a launch site and explore its proximity to see if you can easily find any railway, highway, coastline, etc. Move your mouse to these points and mark down their coordinates (shown on the top-left) in order to the distance to the launch site.\n",
      "metadata": {}
    },
    {
      "cell_type": "markdown",
      "source": "Now zoom in to a launch site and explore its proximity to see if you can easily find any railway, highway, coastline, etc. Move your mouse to these points and mark down their coordinates (shown on the top-left) in order to the distance to the launch site.\n",
      "metadata": {}
    },
    {
      "cell_type": "code",
      "source": "from math import sin, cos, sqrt, atan2, radians\n\ndef calculate_distance(lat1, lon1, lat2, lon2):\n    # approximate radius of earth in km\n    R = 6373.0\n\n    lat1 = radians(lat1)\n    lon1 = radians(lon1)\n    lat2 = radians(lat2)\n    lon2 = radians(lon2)\n\n    dlon = lon2 - lon1\n    dlat = lat2 - lat1\n\n    a = sin(dlat / 2)**2 + cos(lat1) * cos(lat2) * sin(dlon / 2)**2\n    c = 2 * atan2(sqrt(a), sqrt(1 - a))\n\n    distance = R * c\n    return distance",
      "metadata": {
        "trusted": true
      },
      "outputs": [],
      "execution_count": null
    },
    {
      "cell_type": "markdown",
      "source": "*TODO:* Mark down a point on the closest coastline using MousePosition and calculate the distance between the coastline point and the launch site.\n",
      "metadata": {}
    },
    {
      "cell_type": "code",
      "source": "# find coordinate of the closet coastline\n# e.g.,: Lat: 28.56367  Lon: -80.57163\ndistance_coastline = calculate_distance(28.56367, -80.57163, 28.56251, -80.56789)\ndistance_coastline",
      "metadata": {
        "trusted": true
      },
      "outputs": [],
      "execution_count": null
    },
    {
      "cell_type": "code",
      "source": "# Create and add a folium.Marker on your selected closest coastline point on the map\n# Display the distance between coastline point and launch site using the icon property \n# for example\ndistance_marker = folium.Marker(\n   [28.56251, -80.56789],\n   icon=DivIcon(\n       icon_size=(20,20),\n       icon_anchor=(0,0),\n       html='<div style=\"font-size: 12; color:#d35400;\"><b>%s</b></div>' % \"{:10.2f} KM\".format(distance_coastline),\n       )\n   )",
      "metadata": {
        "trusted": true
      },
      "outputs": [],
      "execution_count": null
    },
    {
      "cell_type": "markdown",
      "source": "*TODO:* Draw a `PolyLine` between a launch site to the selected coastline point\n",
      "metadata": {}
    },
    {
      "cell_type": "code",
      "source": "# Create a `folium.PolyLine` object using the coastline coordinates and launch site coordinate\nlines=folium.PolyLine(locations=[[28.56367, -80.57163], [28.56251, -80.56789]], weight=1)\nsite_map.add_child(lines)",
      "metadata": {
        "trusted": true
      },
      "outputs": [],
      "execution_count": null
    },
    {
      "cell_type": "markdown",
      "source": "Your updated map with distance line should look like the following screenshot:\n",
      "metadata": {}
    },
    {
      "cell_type": "markdown",
      "source": "<center>\n    <img src=\"https://cf-courses-data.s3.us.cloud-object-storage.appdomain.cloud/IBM-DS0321EN-SkillsNetwork/labs/module_3/images/launch_site_marker_distance.png\">\n</center>\n",
      "metadata": {}
    },
    {
      "cell_type": "markdown",
      "source": "*TODO:* Similarly, you can draw a line betwee a launch site to its closest city, railway, highway, etc. You need to use `MousePosition` to find the their coordinates on the map first\n",
      "metadata": {}
    },
    {
      "cell_type": "markdown",
      "source": "A railway map symbol may look like this:\n",
      "metadata": {}
    },
    {
      "cell_type": "markdown",
      "source": "<center>\n    <img src=\"https://cf-courses-data.s3.us.cloud-object-storage.appdomain.cloud/IBM-DS0321EN-SkillsNetwork/labs/module_3/images/railway.png\">\n</center>\n",
      "metadata": {}
    },
    {
      "cell_type": "markdown",
      "source": "A highway map symbol may look like this:\n",
      "metadata": {}
    },
    {
      "cell_type": "markdown",
      "source": "<center>\n    <img src=\"https://cf-courses-data.s3.us.cloud-object-storage.appdomain.cloud/IBM-DS0321EN-SkillsNetwork/labs/module_3/images/highway.png\">\n</center>\n",
      "metadata": {}
    },
    {
      "cell_type": "markdown",
      "source": "A city map symbol may look like this:\n",
      "metadata": {}
    },
    {
      "cell_type": "markdown",
      "source": "<center>\n    <img src=\"https://cf-courses-data.s3.us.cloud-object-storage.appdomain.cloud/IBM-DS0321EN-SkillsNetwork/labs/module_3/images/city.png\">\n</center>\n",
      "metadata": {}
    },
    {
      "cell_type": "code",
      "source": "# Create a marker with distance to a closest city, railway, highway, etc.\n# Draw a line between the marker to the launch site\n",
      "metadata": {
        "trusted": true
      },
      "outputs": [],
      "execution_count": null
    },
    {
      "cell_type": "code",
      "source": "#Distance to Highway\ncoordinates = [[28.56342, -80.57674], [28.42713, -80.76445]]\n\nlines=folium.PolyLine(locations=coordinates, weight=1)\nsite_map.add_child(lines)\ndistance = calculate_distance(coordinates[0][0], coordinates[0][1], coordinates[1][0], coordinates[1][1])\ndistance_circle = folium.Marker(\n    [28.411780, -80.820630],\n    icon=DivIcon(\n        icon_size=(20,20),\n        icon_anchor=(0,0),\n        html='<div style=\"font-size: 12; color:#252526;\"><b>%s</b></div>' % \"{:10.2f} KM\".format(distance),\n        )\n    )\nsite_map.add_child(distance_circle)\nsite_map",
      "metadata": {
        "trusted": true
      },
      "outputs": [],
      "execution_count": null
    },
    {
      "cell_type": "code",
      "source": "#Distance to Orlando\n\ncoordinates = [[28.56342, -80.57674], [28.54532, -81.33213]]\n\nlines=folium.PolyLine(locations=coordinates, weight=1)\nsite_map.add_child(lines)\ndistance = calculate_distance(coordinates[0][0], coordinates[0][1], coordinates[1][0], coordinates[1][1])\ndistance_circle = folium.Marker(\n    [28.5383, -81.3792],\n    icon=DivIcon(\n        icon_size=(20,20),\n        icon_anchor=(0,0),\n        html='<div style=\"font-size: 12; color:#252526;\"><b>%s</b></div>' % \"{:10.2f} KM\".format(distance),\n        )\n    )\nsite_map.add_child(distance_circle)\nsite_map",
      "metadata": {
        "trusted": true
      },
      "outputs": [],
      "execution_count": null
    },
    {
      "cell_type": "markdown",
      "source": "After you plot distance lines to the proximities, you can answer the following questions easily:\n\n*   Are launch sites in close proximity to railways?\n*   Are launch sites in close proximity to highways?\n*   Are launch sites in close proximity to coastline?\n*   Do launch sites keep certain distance away from cities?\n\nAlso please try to explain your findings.\n",
      "metadata": {}
    },
    {
      "cell_type": "markdown",
      "source": "# Next Steps:\n\nNow you have discovered many interesting insights related to the launch sites' location using folium, in a very interactive way. Next, you will need to build a dashboard using Ploty Dash on detailed launch records.\n",
      "metadata": {}
    },
    {
      "cell_type": "markdown",
      "source": "## Authors\n",
      "metadata": {}
    },
    {
      "cell_type": "markdown",
      "source": "[Pratiksha Verma](https://www.linkedin.com/in/pratiksha-verma-6487561b1/)\n",
      "metadata": {}
    },
    {
      "cell_type": "markdown",
      "source": "<!--## Change Log--!>\n",
      "metadata": {}
    },
    {
      "cell_type": "markdown",
      "source": "<!--| Date (YYYY-MM-DD) | Version | Changed By      | Change Description      |\n| ----------------- | ------- | -------------   | ----------------------- |\n| 2022-11-09        | 1.0     | Pratiksha Verma | Converted initial version to Jupyterlite|--!>\n",
      "metadata": {}
    },
    {
      "cell_type": "markdown",
      "source": "### <h3 align=\"center\"> IBM Corporation 2022. All rights reserved. <h3/>\n",
      "metadata": {}
    }
  ]
}